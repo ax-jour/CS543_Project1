{
 "cells": [
  {
   "cell_type": "code",
   "execution_count": 7,
   "metadata": {},
   "outputs": [],
   "source": [
    "import sys,os,re\n",
    "import glob\n",
    "import pandas as pd\n",
    "from pyspark import SparkContext\n",
    "from pyspark.sql import SparkSession\n",
    "from pyspark.sql.functions import col,udf,lower,date_format"
   ]
  },
  {
   "cell_type": "code",
   "execution_count": 8,
   "metadata": {},
   "outputs": [],
   "source": [
    "spark = SparkSession \\\n",
    "        .builder \\\n",
    "        .master(\"local[*]\") \\\n",
    "        .config(\"spark.executor.memory\", \"70g\") \\\n",
    "        .config(\"spark.driver.memory\", \"50g\") \\\n",
    "        .config(\"spark.memory.offHeap.enabled\",True) \\\n",
    "        .config(\"spark.memory.offHeap.size\",\"16g\") \\\n",
    "        .appName(\"Airline\") \\\n",
    "        .getOrCreate()"
   ]
  },
  {
   "cell_type": "markdown",
   "metadata": {},
   "source": [
    "Read flights, airports, and weather stations data."
   ]
  },
  {
   "cell_type": "code",
   "execution_count": 13,
   "metadata": {},
   "outputs": [],
   "source": [
    "flights_df = spark.read.option(\"header\",True).csv('./data/flights/')\n",
    "stations_df = spark.read.option(\"header\",False).csv('./data/ghcnd-stations_clean.csv')\n",
    "airports_df = spark.read.option(\"header\",True).csv('./data/us-airports_clean.csv')\n",
    "# apCodes_df = spark.read.option(\"header\",True).csv('./data/airport-codes_clean.csv')\n",
    "\n",
    "# Create tables for these dataframe in order to query\n",
    "flights_df.createOrReplaceTempView(\"Airlines\")\n",
    "stations_df.createOrReplaceTempView(\"Stations\")\n",
    "airports_df.createOrReplaceTempView(\"Airports\")\n",
    "# apCodes_df.createOrReplaceTempView(\"AirportCodes\")"
   ]
  },
  {
   "cell_type": "markdown",
   "metadata": {},
   "source": [
    "Check all ORIGIN and DEST column in dataset, pick airport codes that appeared in dataset."
   ]
  },
  {
   "cell_type": "code",
   "execution_count": 14,
   "metadata": {},
   "outputs": [],
   "source": [
    "AP_CODEs = spark.sql(\" \\\n",
    "    SELECT DISTINCT ORIGIN FROM AIRLINES \\\n",
    "    UNION \\\n",
    "    SELECT DISTINCT DEST FROM AIRLINES\" \\\n",
    ")\n",
    "\n",
    "# Create a table for it\n",
    "AP_CODEs.createOrReplaceTempView(\"AirportCode\")"
   ]
  },
  {
   "cell_type": "code",
   "execution_count": 15,
   "metadata": {},
   "outputs": [
    {
     "ename": "AnalysisException",
     "evalue": "Path does not exist: file:/home/ax/Develop/CS543/Project1/data/apIdName.csv",
     "output_type": "error",
     "traceback": [
      "\u001b[0;31m---------------------------------------------------------------------------\u001b[0m",
      "\u001b[0;31mAnalysisException\u001b[0m                         Traceback (most recent call last)",
      "Cell \u001b[0;32mIn [15], line 1\u001b[0m\n\u001b[0;32m----> 1\u001b[0m APIDNAMEs \u001b[39m=\u001b[39m spark\u001b[39m.\u001b[39;49mread\u001b[39m.\u001b[39;49moption(\u001b[39m\"\u001b[39;49m\u001b[39mheader\u001b[39;49m\u001b[39m\"\u001b[39;49m,\u001b[39mFalse\u001b[39;49;00m)\u001b[39m.\u001b[39;49mcsv(\u001b[39m'\u001b[39;49m\u001b[39m./data/apIdName.csv\u001b[39;49m\u001b[39m'\u001b[39;49m)\n\u001b[1;32m      2\u001b[0m APIDNAMEs\u001b[39m.\u001b[39mcreateOrReplaceTempView(\u001b[39m\"\u001b[39m\u001b[39mAPIDNAME\u001b[39m\u001b[39m\"\u001b[39m)\n\u001b[1;32m      3\u001b[0m APIDNAMELOCAL \u001b[39m=\u001b[39m spark\u001b[39m.\u001b[39msql(\u001b[39m\"\u001b[39m\u001b[39m \u001b[39m\u001b[39m\\\u001b[39;00m\n\u001b[1;32m      4\u001b[0m \u001b[39m        SELECT * FROM APIDNAME AS n \u001b[39m\u001b[39m\\\u001b[39;00m\n\u001b[1;32m      5\u001b[0m \u001b[39m        LEFT JOIN Airports AS p ON n._c0 = p.local_code \u001b[39m\u001b[39m\\\u001b[39;00m\n\u001b[1;32m      6\u001b[0m \u001b[39m    \u001b[39m\u001b[39m\"\u001b[39m)\n",
      "File \u001b[0;32m~/Develop/CS543/Project1/cs543_proj_1/lib/python3.10/site-packages/pyspark/sql/readwriter.py:535\u001b[0m, in \u001b[0;36mDataFrameReader.csv\u001b[0;34m(self, path, schema, sep, encoding, quote, escape, comment, header, inferSchema, ignoreLeadingWhiteSpace, ignoreTrailingWhiteSpace, nullValue, nanValue, positiveInf, negativeInf, dateFormat, timestampFormat, maxColumns, maxCharsPerColumn, maxMalformedLogPerPartition, mode, columnNameOfCorruptRecord, multiLine, charToEscapeQuoteEscaping, samplingRatio, enforceSchema, emptyValue, locale, lineSep, pathGlobFilter, recursiveFileLookup, modifiedBefore, modifiedAfter, unescapedQuoteHandling)\u001b[0m\n\u001b[1;32m    533\u001b[0m \u001b[39mif\u001b[39;00m \u001b[39mtype\u001b[39m(path) \u001b[39m==\u001b[39m \u001b[39mlist\u001b[39m:\n\u001b[1;32m    534\u001b[0m     \u001b[39massert\u001b[39;00m \u001b[39mself\u001b[39m\u001b[39m.\u001b[39m_spark\u001b[39m.\u001b[39m_sc\u001b[39m.\u001b[39m_jvm \u001b[39mis\u001b[39;00m \u001b[39mnot\u001b[39;00m \u001b[39mNone\u001b[39;00m\n\u001b[0;32m--> 535\u001b[0m     \u001b[39mreturn\u001b[39;00m \u001b[39mself\u001b[39m\u001b[39m.\u001b[39m_df(\u001b[39mself\u001b[39;49m\u001b[39m.\u001b[39;49m_jreader\u001b[39m.\u001b[39;49mcsv(\u001b[39mself\u001b[39;49m\u001b[39m.\u001b[39;49m_spark\u001b[39m.\u001b[39;49m_sc\u001b[39m.\u001b[39;49m_jvm\u001b[39m.\u001b[39;49mPythonUtils\u001b[39m.\u001b[39;49mtoSeq(path)))\n\u001b[1;32m    536\u001b[0m \u001b[39melif\u001b[39;00m \u001b[39misinstance\u001b[39m(path, RDD):\n\u001b[1;32m    538\u001b[0m     \u001b[39mdef\u001b[39;00m \u001b[39mfunc\u001b[39m(iterator):\n",
      "File \u001b[0;32m~/Develop/CS543/Project1/cs543_proj_1/lib/python3.10/site-packages/py4j/java_gateway.py:1321\u001b[0m, in \u001b[0;36mJavaMember.__call__\u001b[0;34m(self, *args)\u001b[0m\n\u001b[1;32m   1315\u001b[0m command \u001b[39m=\u001b[39m proto\u001b[39m.\u001b[39mCALL_COMMAND_NAME \u001b[39m+\u001b[39m\\\n\u001b[1;32m   1316\u001b[0m     \u001b[39mself\u001b[39m\u001b[39m.\u001b[39mcommand_header \u001b[39m+\u001b[39m\\\n\u001b[1;32m   1317\u001b[0m     args_command \u001b[39m+\u001b[39m\\\n\u001b[1;32m   1318\u001b[0m     proto\u001b[39m.\u001b[39mEND_COMMAND_PART\n\u001b[1;32m   1320\u001b[0m answer \u001b[39m=\u001b[39m \u001b[39mself\u001b[39m\u001b[39m.\u001b[39mgateway_client\u001b[39m.\u001b[39msend_command(command)\n\u001b[0;32m-> 1321\u001b[0m return_value \u001b[39m=\u001b[39m get_return_value(\n\u001b[1;32m   1322\u001b[0m     answer, \u001b[39mself\u001b[39;49m\u001b[39m.\u001b[39;49mgateway_client, \u001b[39mself\u001b[39;49m\u001b[39m.\u001b[39;49mtarget_id, \u001b[39mself\u001b[39;49m\u001b[39m.\u001b[39;49mname)\n\u001b[1;32m   1324\u001b[0m \u001b[39mfor\u001b[39;00m temp_arg \u001b[39min\u001b[39;00m temp_args:\n\u001b[1;32m   1325\u001b[0m     temp_arg\u001b[39m.\u001b[39m_detach()\n",
      "File \u001b[0;32m~/Develop/CS543/Project1/cs543_proj_1/lib/python3.10/site-packages/pyspark/sql/utils.py:196\u001b[0m, in \u001b[0;36mcapture_sql_exception.<locals>.deco\u001b[0;34m(*a, **kw)\u001b[0m\n\u001b[1;32m    192\u001b[0m converted \u001b[39m=\u001b[39m convert_exception(e\u001b[39m.\u001b[39mjava_exception)\n\u001b[1;32m    193\u001b[0m \u001b[39mif\u001b[39;00m \u001b[39mnot\u001b[39;00m \u001b[39misinstance\u001b[39m(converted, UnknownException):\n\u001b[1;32m    194\u001b[0m     \u001b[39m# Hide where the exception came from that shows a non-Pythonic\u001b[39;00m\n\u001b[1;32m    195\u001b[0m     \u001b[39m# JVM exception message.\u001b[39;00m\n\u001b[0;32m--> 196\u001b[0m     \u001b[39mraise\u001b[39;00m converted \u001b[39mfrom\u001b[39;00m \u001b[39mNone\u001b[39m\n\u001b[1;32m    197\u001b[0m \u001b[39melse\u001b[39;00m:\n\u001b[1;32m    198\u001b[0m     \u001b[39mraise\u001b[39;00m\n",
      "\u001b[0;31mAnalysisException\u001b[0m: Path does not exist: file:/home/ax/Develop/CS543/Project1/data/apIdName.csv"
     ]
    }
   ],
   "source": [
    "APIDNAMEs = spark.read.option(\"header\",False).csv('./data/apIdName.csv')\n",
    "APIDNAMEs.createOrReplaceTempView(\"APIDNAME\")\n",
    "APIDNAMELOCAL = spark.sql(\" \\\n",
    "        SELECT * FROM APIDNAME AS n \\\n",
    "        LEFT JOIN Airports AS p ON n._c0 = p.local_code \\\n",
    "    \")"
   ]
  },
  {
   "cell_type": "code",
   "execution_count": 16,
   "metadata": {},
   "outputs": [
    {
     "name": "stderr",
     "output_type": "stream",
     "text": [
      "                                                                                \r"
     ]
    }
   ],
   "source": [
    "# (ORIGIN, STATE, CITY, AP LOCAL_CODE, AP IATA_CODE, AP IDENT_CODE, AP NAME)\n",
    "FULL_DF = spark.sql(\" \\\n",
    "        SELECT c.ORIGIN, \\\n",
    "            p.local_region AS STATE, \\\n",
    "            p.municipality AS CITY, \\\n",
    "            p.local_code AS LOCAL, \\\n",
    "            p.iata_code AS IATA, \\\n",
    "            p.ident AS IDENT, \\\n",
    "            p.name AS NAME \\\n",
    "        FROM AirportCode AS c \\\n",
    "        LEFT JOIN Airports AS p ON \\\n",
    "        (c.ORIGIN = p.local_code OR c.ORIGIN = p.iata_code)\" \\\n",
    "    )\n",
    "    \n",
    "FULL_DF.write.option(\"header\",True).csv('./output/full')\n",
    "FULL_DF.createOrReplaceTempView(\"FULL_AP\")"
   ]
  },
  {
   "cell_type": "code",
   "execution_count": 17,
   "metadata": {},
   "outputs": [],
   "source": [
    "ap_stations = stations_df.filter( \\\n",
    "    lower(col('_c2')).like('% ap%') | \\\n",
    "    lower(col('_c2')).like('% airport%')) \\\n",
    "\n",
    "ap_stations.createOrReplaceTempView(\"APTABLE\")\n",
    "ap_stations.write.csv('./output/ap_station')\n",
    "\n",
    "sqlStr = \"SELECT * FROM APTABLE AS t \\\n",
    "        LEFT JOIN FULL_AP AS p ON \\\n",
    "        t._c2 LIKE CONCAT('%', p.column ,'%') \""
   ]
  },
  {
   "cell_type": "code",
   "execution_count": null,
   "metadata": {},
   "outputs": [],
   "source": [
    "# Version2: Output AirportID,AirportName into ./output/airports.csv\n",
    "spark.sql(\" \\\n",
    "        SELECT i.ORIGIN, p.name \\\n",
    "        FROM AIRPORTID i \\\n",
    "        LEFT JOIN \\\n",
    "        AIRPORTS p ON i.ORIGIN = ( \\\n",
    "        CASE WHEN (p.iata_code IS NOT NULL) THEN (p.iata_code) \\\n",
    "        ELSE (p.local_code) END) \\\n",
    "        WHERE p.iso_country = 'US'\" \\\n",
    "    ) \\\n",
    "    .sort(\"ORIGIN\") \\\n",
    "    .write.options(heade=True, delimiter=',') \\\n",
    "    .csv(\"./output/airports\")"
   ]
  },
  {
   "cell_type": "code",
   "execution_count": null,
   "metadata": {},
   "outputs": [],
   "source": [
    "# load stations info\n",
    "apIdNameDF = spark.read.option(\"header\",False).csv('./data/apIdName.csv')\n",
    "apIdNames = apIdNameDF.collect()\n",
    "\n",
    "name_seg = set()\n",
    "for s in apIdNames:\n",
    "    for i in str(s[1]).split():\n",
    "        if i.isalpha():\n",
    "            name_seg.add(i)\n",
    "\n",
    "tl = list(name_seg)\n",
    "tl.sort()\n",
    "print(tl)"
   ]
  },
  {
   "cell_type": "code",
   "execution_count": null,
   "metadata": {},
   "outputs": [],
   "source": [
    "ghcndDF = spark.read.option(\"header\",False).csv('./data/ghcnd-stations_clean.csv')\n",
    "potentials = ghcndDF.filter( \\\n",
    "    lower(col('_c2')).like('% ap%') | \\\n",
    "    lower(col('_c2')).like('% airport%')).write.csv('test.csv')"
   ]
  },
  {
   "cell_type": "code",
   "execution_count": null,
   "metadata": {},
   "outputs": [],
   "source": [
    "full_airport_station =  spark.read.option(\"header\",True).csv('./data/airports_stations.csv')\n",
    "ghcnd_stations = spark.read.option(\"header\",False).csv('./data/ghcnd_by_year/')"
   ]
  },
  {
   "cell_type": "code",
   "execution_count": null,
   "metadata": {},
   "outputs": [],
   "source": [
    "print(full_airport_station.head())\n",
    "print(ghcnd_stations.head())"
   ]
  },
  {
   "cell_type": "code",
   "execution_count": null,
   "metadata": {},
   "outputs": [],
   "source": [
    "selected_airport_station = full_airport_station.select(col('ORIGIN'),col('STATION'))\n",
    "ghcnd_stations_clean = ghcnd_stations.join( \\\n",
    "                            selected_airport_station, \\\n",
    "                            ghcnd_stations._c0 == selected_airport_station.STATION, \\\n",
    "                            \"LeftOuter\" \\\n",
    "                        )"
   ]
  },
  {
   "cell_type": "code",
   "execution_count": null,
   "metadata": {},
   "outputs": [],
   "source": [
    "# Keep not null rows and rename them based on GHCND documents\n",
    "filter_null = ghcnd_stations_clean \\\n",
    "                .filter(ghcnd_stations_clean.ORIGIN.isNotNull()) \\\n",
    "                .select(col('_c0').alias(\"STATION_ID\"), \\\n",
    "                        col('ORIGIN').alias(\"AIRPORT_CODE\"), \\\n",
    "                        col('_c1').alias(\"DATE\"), \\\n",
    "                        col('_c2').alias(\"ELEMENT\"), \\\n",
    "                        col('_c3').alias(\"DATA_VALUE\"), \\\n",
    "                        col('_c4').alias(\"M_FLAG\"), \\\n",
    "                        col('_c5').alias(\"Q_FLAG\"), \\\n",
    "                        col('_c6').alias(\"S_FLAG\"), \\\n",
    "                        col('_c7').alias(\"OBS_TIME\"))"
   ]
  },
  {
   "cell_type": "code",
   "execution_count": null,
   "metadata": {},
   "outputs": [],
   "source": [
    "filter_null.write.option(\"header\",True).csv(\"./output/filter_all_v4\")"
   ]
  },
  {
   "cell_type": "code",
   "execution_count": null,
   "metadata": {},
   "outputs": [],
   "source": [
    "airlines = spark.read.option(\"header\",True).csv('./data/AIRLINES/')\n",
    "airlines = airlines.select(date_format(col('FL_DATE'),\"yyyyMMdd\").alias(\"FL_DATE_T\"),\"*\")\n",
    "paired = airlines.join(filter_null, airlines.FL_DATE_T == filter_null.DATE, \"leftouter\") \\\n",
    "                    .drop('FL_DATE')"
   ]
  },
  {
   "cell_type": "code",
   "execution_count": null,
   "metadata": {},
   "outputs": [],
   "source": [
    "paired.write.option(\"header\",True).csv(\"./output/FL_Weather\")"
   ]
  }
 ],
 "metadata": {
  "kernelspec": {
   "display_name": "Python 3.10.6 ('cs543_proj_1': venv)",
   "language": "python",
   "name": "python3"
  },
  "language_info": {
   "codemirror_mode": {
    "name": "ipython",
    "version": 3
   },
   "file_extension": ".py",
   "mimetype": "text/x-python",
   "name": "python",
   "nbconvert_exporter": "python",
   "pygments_lexer": "ipython3",
   "version": "3.10.6"
  },
  "orig_nbformat": 4,
  "vscode": {
   "interpreter": {
    "hash": "cde981a51954932d95cd0d2db88350bc6a3d7387d257ee815a180cd40a004a1b"
   }
  }
 },
 "nbformat": 4,
 "nbformat_minor": 2
}
