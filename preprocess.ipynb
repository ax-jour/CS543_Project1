{
 "cells": [
  {
   "cell_type": "code",
   "execution_count": 1,
   "metadata": {},
   "outputs": [],
   "source": [
    "import sys,os,re\n",
    "import glob\n",
    "import pandas as pd\n",
    "from pyspark import SparkContext\n",
    "from pyspark.sql import SparkSession\n",
    "from pyspark.sql.functions import col,udf,lower"
   ]
  },
  {
   "cell_type": "code",
   "execution_count": 2,
   "metadata": {},
   "outputs": [
    {
     "name": "stdout",
     "output_type": "stream",
     "text": [
      "22/11/03 09:25:44 WARN Utils: Your hostname, LinuxGUI resolves to a loopback address: 127.0.1.1; using 192.168.0.103 instead (on interface eno1)\n",
      "22/11/03 09:25:44 WARN Utils: Set SPARK_LOCAL_IP if you need to bind to another address\n"
     ]
    },
    {
     "name": "stderr",
     "output_type": "stream",
     "text": [
      "Setting default log level to \"WARN\".\n",
      "To adjust logging level use sc.setLogLevel(newLevel). For SparkR, use setLogLevel(newLevel).\n"
     ]
    },
    {
     "name": "stdout",
     "output_type": "stream",
     "text": [
      "22/11/03 09:25:44 WARN NativeCodeLoader: Unable to load native-hadoop library for your platform... using builtin-java classes where applicable\n"
     ]
    }
   ],
   "source": [
    "spark = SparkSession \\\n",
    "        .builder \\\n",
    "        .master(\"local[*]\") \\\n",
    "        .config(\"spark.executor.memory\", \"70g\") \\\n",
    "        .config(\"spark.driver.memory\", \"50g\") \\\n",
    "        .config(\"spark.memory.offHeap.enabled\",True) \\\n",
    "        .config(\"spark.memory.offHeap.size\",\"16g\") \\\n",
    "        .appName(\"Airline\") \\\n",
    "        .getOrCreate()"
   ]
  },
  {
   "cell_type": "code",
   "execution_count": null,
   "metadata": {},
   "outputs": [],
   "source": [
    "# Read all airline delay info under ./data\n",
    "US_ALs = spark.read.option(\"header\",True).csv('./data/airlines/')\n",
    "US_APs = spark.read.option(\"header\",True).csv('./data/us-airports_clean.csv')\n",
    "Stations = spark.read.option(\"header\",False).csv('./data/ghcnd-stations_clean.csv')\n",
    "# airportDF = spark.read.option(\"header\",True).csv('./data/airport-codes_clean.csv')\n",
    "\n",
    "US_ALs.createOrReplaceTempView(\"Airlines\")\n",
    "US_APs.createOrReplaceTempView(\"Airports\")\n",
    "Stations.createOrReplaceTempView(\"Stations\")\n",
    "\n",
    "# Create UNIQUE airport identifier in dataset\n",
    "AP_CODEs = spark.sql(\" \\\n",
    "    SELECT DISTINCT ORIGIN FROM AIRLINES \\\n",
    "    UNION \\\n",
    "    SELECT DISTINCT DEST FROM AIRLINES\" \\\n",
    ")\n",
    "\n",
    "# Create a table for it\n",
    "AP_CODEs.createOrReplaceTempView(\"AirportCode\")"
   ]
  },
  {
   "cell_type": "code",
   "execution_count": null,
   "metadata": {},
   "outputs": [],
   "source": [
    "APIDNAMEs = spark.read.option(\"header\",False).csv('./data/apIdName.csv')\n",
    "APIDNAMEs.createOrReplaceTempView(\"APIDNAME\")\n",
    "APIDNAMELOCAL = spark.sql(\" \\\n",
    "        SELECT * FROM APIDNAME AS n \\\n",
    "        LEFT JOIN Airports AS p ON n._c0 = p.local_code \\\n",
    "    \")"
   ]
  },
  {
   "cell_type": "code",
   "execution_count": null,
   "metadata": {},
   "outputs": [],
   "source": [
    "# (ORIGIN, STATE, CITY, AP LOCAL_CODE, AP IATA_CODE, AP IDENT_CODE, AP NAME)\n",
    "FULL_DF = spark.sql(\" \\\n",
    "        SELECT c.ORIGIN, \\\n",
    "            p.local_region AS STATE, \\\n",
    "            p.municipality AS CITY, \\\n",
    "            p.local_code AS LOCAL, \\\n",
    "            p.iata_code AS IATA, \\\n",
    "            p.ident AS IDENT, \\\n",
    "            p.name AS NAME \\\n",
    "        FROM AirportCode AS c \\\n",
    "        LEFT JOIN Airports AS p ON \\\n",
    "        (c.ORIGIN = p.local_code OR c.ORIGIN = p.iata_code)\" \\\n",
    "    )\n",
    "    \n",
    "FULL_DF.write.option(\"header\",True).csv('./output/full')\n",
    "FULL_DF.createOrReplaceTempView(\"FULL_AP\")"
   ]
  },
  {
   "cell_type": "code",
   "execution_count": null,
   "metadata": {},
   "outputs": [],
   "source": [
    "sqlStr = \"SELECT * FROM FULL_AP AS f \\\n",
    "    LEFT JOIN Stations AS s \"\n",
    "\n",
    "# MATCH_STATIONS_DF = spark.sql()\n",
    "\n",
    "ap_stations = Stations.filter( \\\n",
    "    lower(col('_c2')).like('% ap%') | \\\n",
    "    lower(col('_c2')).like('% airport%')) \\\n",
    "\n",
    "ap_stations.createOrReplaceTempView(\"APTABLE\")\n",
    "ap_stations.write.csv('./output/ap_station')\n",
    "\n",
    "\n",
    "sqlStr = \"SELECT * FROM APTABLE AS t \\\n",
    "        LEFT JOIN FULL_AP AS p ON \\\n",
    "        t._c2 LIKE CONCAT('%', p.column ,'%') \""
   ]
  },
  {
   "cell_type": "code",
   "execution_count": null,
   "metadata": {},
   "outputs": [],
   "source": [
    "# Version2: Output AirportID,AirportName into ./output/airports.csv\n",
    "spark.sql(\" \\\n",
    "    SELECT i.ORIGIN, p.name \\\n",
    "    FROM AIRPORTID i \\\n",
    "    LEFT JOIN \\\n",
    "    AIRPORTS p ON i.ORIGIN = ( \\\n",
    "    CASE WHEN (p.iata_code IS NOT NULL) THEN (p.iata_code) \\\n",
    "    ELSE (p.local_code) END) \\\n",
    "    WHERE p.iso_country = 'US'\" \\\n",
    "    ) \\\n",
    "    .sort(\"ORIGIN\") \\\n",
    "    .write.options(heade=True, delimiter=',') \\\n",
    "    .csv(\"./output/airports\")"
   ]
  },
  {
   "cell_type": "code",
   "execution_count": null,
   "metadata": {},
   "outputs": [],
   "source": [
    "# load stations info\n",
    "apIdNameDF = spark.read.option(\"header\",False).csv('./data/apIdName.csv')\n",
    "apIdNames = apIdNameDF.collect()\n",
    "\n",
    "name_seg = set()\n",
    "for s in apIdNames:\n",
    "    for i in str(s[1]).split():\n",
    "        if i.isalpha():\n",
    "            name_seg.add(i)\n",
    "\n",
    "tl = list(name_seg)\n",
    "tl.sort()\n",
    "print(tl)"
   ]
  },
  {
   "cell_type": "code",
   "execution_count": null,
   "metadata": {},
   "outputs": [],
   "source": [
    "ghcndDF = spark.read.option(\"header\",False).csv('./data/ghcnd-stations_clean.csv')\n",
    "potentials = ghcndDF.filter( \\\n",
    "    lower(col('_c2')).like('% ap%') | \\\n",
    "    lower(col('_c2')).like('% airport%')).write.csv('test.csv')"
   ]
  },
  {
   "cell_type": "code",
   "execution_count": 3,
   "metadata": {},
   "outputs": [
    {
     "name": "stderr",
     "output_type": "stream",
     "text": [
      "[Stage 2:======================================================> (99 + 3) / 102]\r"
     ]
    },
    {
     "name": "stdout",
     "output_type": "stream",
     "text": [
      "374901618\n",
      "Row(ORIGIN='BGM', STATE='NY', CITY='Binghamton', LOCAL='BGM', IATA='BGM', IDENT='KBGM', NAME='Greater Binghamton/Edwin A Link field', STATION='USW00014738')\n",
      "Row(_c0='AE000041196', _c1='20130101', _c2='TMAX', _c3='250', _c4=None, _c5=None, _c6='S', _c7=None)\n"
     ]
    },
    {
     "name": "stderr",
     "output_type": "stream",
     "text": [
      "                                                                                \r"
     ]
    }
   ],
   "source": [
    "full_airport_station =  spark.read.option(\"header\",True).csv('./data/airports_stations.csv')\n",
    "ghcnd_stations = spark.read.option(\"header\",False).csv('./data/ghcnd_by_year/')\n",
    "\n",
    "full_airport_station.createOrReplaceTempView('full_airport_station')\n",
    "ghcnd_stations.createOrReplaceTempView('ghcnd_stations')\n",
    "\n",
    "print(ghcnd_stations.count())\n",
    "print(full_airport_station.head())\n",
    "print(ghcnd_stations.head())"
   ]
  },
  {
   "cell_type": "code",
   "execution_count": 5,
   "metadata": {},
   "outputs": [],
   "source": [
    "selected_airport_station = full_airport_station.select(col('ORIGIN'),col('STATION'))\n",
    "ghcnd_stations_clean = ghcnd_stations.join( \\\n",
    "                            selected_airport_station, \\\n",
    "                            ghcnd_stations._c0 == selected_airport_station.STATION, \\\n",
    "                            \"LeftOuter\" \\\n",
    "                        )"
   ]
  },
  {
   "cell_type": "code",
   "execution_count": 8,
   "metadata": {},
   "outputs": [
    {
     "name": "stderr",
     "output_type": "stream",
     "text": [
      "                                                                                \r"
     ]
    }
   ],
   "source": [
    "# Keep not null rows and rename them based on GHCND documents\n",
    "filter_null = ghcnd_stations_clean \\\n",
    "                .filter(ghcnd_stations_clean.ORIGIN.isNotNull()) \\\n",
    "                .select(col('_c0').alias(\"STATION_ID\"), \\\n",
    "                        col('ORIGIN').alias(\"AIRPORT_CODE\"), \\\n",
    "                        col('_c1').alias(\"DATE\"), \\\n",
    "                        col('_c2').alias(\"ELEMENT\"), \\\n",
    "                        col('_c3').alias(\"DATA_VALUE\"), \\\n",
    "                        col('_c4').alias(\"M_FLAG\"), \\\n",
    "                        col('_c5').alias(\"Q_FLAG\"), \\\n",
    "                        col('_c6').alias(\"S_FLAG\"), \\\n",
    "                        col('_c7').alias(\"OBS_TIME\"))\n",
    "filter_null.count()\n",
    "filter_null.write.option(\"header\",True).csv(\"./output/filter_all_v4\")"
   ]
  }
 ],
 "metadata": {
  "kernelspec": {
   "display_name": "Python 3.10.6 ('cs543_proj_1': venv)",
   "language": "python",
   "name": "python3"
  },
  "language_info": {
   "codemirror_mode": {
    "name": "ipython",
    "version": 3
   },
   "file_extension": ".py",
   "mimetype": "text/x-python",
   "name": "python",
   "nbconvert_exporter": "python",
   "pygments_lexer": "ipython3",
   "version": "3.10.6"
  },
  "orig_nbformat": 4,
  "vscode": {
   "interpreter": {
    "hash": "cde981a51954932d95cd0d2db88350bc6a3d7387d257ee815a180cd40a004a1b"
   }
  }
 },
 "nbformat": 4,
 "nbformat_minor": 2
}
