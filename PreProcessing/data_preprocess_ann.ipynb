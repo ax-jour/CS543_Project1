{
 "cells": [
  {
   "cell_type": "code",
   "execution_count": 1,
   "metadata": {},
   "outputs": [
    {
     "name": "stdout",
     "output_type": "stream",
     "text": [
      "22/11/29 22:52:31 WARN Utils: Your hostname, LinuxGUI resolves to a loopback address: 127.0.1.1; using 192.168.0.103 instead (on interface eno1)\n",
      "22/11/29 22:52:31 WARN Utils: Set SPARK_LOCAL_IP if you need to bind to another address\n"
     ]
    },
    {
     "name": "stderr",
     "output_type": "stream",
     "text": [
      "Setting default log level to \"WARN\".\n",
      "To adjust logging level use sc.setLogLevel(newLevel). For SparkR, use setLogLevel(newLevel).\n"
     ]
    },
    {
     "name": "stdout",
     "output_type": "stream",
     "text": [
      "22/11/29 22:52:32 WARN NativeCodeLoader: Unable to load native-hadoop library for your platform... using builtin-java classes where applicable\n",
      "22/11/29 22:52:32 WARN Utils: Service 'SparkUI' could not bind on port 4040. Attempting port 4041.\n"
     ]
    }
   ],
   "source": [
    "from pyspark.sql import SparkSession\n",
    "from pyspark.sql.functions import *\n",
    "\n",
    "spark = SparkSession \\\n",
    "        .builder \\\n",
    "        .master(\"local[11]\") \\\n",
    "        .config(\"spark.executor.memory\", \"16g\") \\\n",
    "        .config(\"spark.driver.memory\", \"16g\") \\\n",
    "        .config(\"spark.memory.offHeap.enabled\",True) \\\n",
    "        .config(\"spark.memory.offHeap.size\",\"16g\") \\\n",
    "        .appName(\"Airline\") \\\n",
    "        .getOrCreate()\n",
    "\n",
    "spark.sparkContext.setLogLevel(\"WARN\")"
   ]
  },
  {
   "cell_type": "markdown",
   "metadata": {},
   "source": [
    "**Variables**"
   ]
  },
  {
   "cell_type": "code",
   "execution_count": 2,
   "metadata": {},
   "outputs": [],
   "source": [
    "YEAR = 2013\n",
    "SE = [(37,80),(24,65)]\n",
    "NE = [(50,80),(37,65)]\n",
    "MSE = [(37,95),(24,80)]\n",
    "MNE = [(50,95),(37,80)]\n",
    "MSW = [(37,110),(24,95)]\n",
    "MNW = [(50,110),(37,95)]\n",
    "SW = [(37,125),(24,110)]\n",
    "NW = [(50,125),(37,110)]"
   ]
  },
  {
   "cell_type": "markdown",
   "metadata": {},
   "source": [
    "**Load preprocessed airport-station dataset and GHCND weather data**"
   ]
  },
  {
   "cell_type": "code",
   "execution_count": 25,
   "metadata": {},
   "outputs": [],
   "source": [
    "airport_station_df = spark.read.option(\"header\",True).csv('./data/airports_stations.csv')\n",
    "ghcnd_all = spark.read.option(\"header\",True).csv('./data/filtered_weather.csv').drop('M_FLAG','Q_FLAG','S_FLAG','OBS_TIME')\n",
    "\n",
    "selected_airport_station = airport_station_df.select(col('ORIGIN'),col('STATION'))\n",
    "ghcnd_all = ghcnd_all.join(selected_airport_station, \\\n",
    "                                        ghcnd_all.STATION_ID == selected_airport_station.STATION, \\\n",
    "                                        \"LeftOuter\")"
   ]
  },
  {
   "cell_type": "code",
   "execution_count": 26,
   "metadata": {},
   "outputs": [
    {
     "data": {
      "text/plain": [
       "Row(STATION_ID='AQW00061705', AIRPORT_CODE='PPG', DATE='20090101', ELEMENT='TMAX', DATA_VALUE='322', ORIGIN='PPG', STATION='AQW00061705')"
      ]
     },
     "execution_count": 26,
     "metadata": {},
     "output_type": "execute_result"
    }
   ],
   "source": [
    "ghcnd_all.head()"
   ]
  },
  {
   "cell_type": "markdown",
   "metadata": {},
   "source": [
    "**Load geological info for each airport and station**"
   ]
  },
  {
   "cell_type": "code",
   "execution_count": 27,
   "metadata": {},
   "outputs": [],
   "source": [
    "full_stations_info = spark.read.option(\"header\",False).csv('./data/ghcnd-stations.csv')\n",
    "\n",
    "geo = airport_station_df \\\n",
    "    .join(full_stations_info,airport_station_df.STATION == full_stations_info._c0,'leftouter') \\\n",
    "    .select(col('ORIGIN').alias(\"AIRPORT_CODE\"), \\\n",
    "            col('STATE'), \\\n",
    "            col('CITY'), \\\n",
    "            col('NAME'), \\\n",
    "            col('STATION'), \\\n",
    "            col('_c1').alias('LAITITUDE').cast('Double'), \\\n",
    "            col('_c2').alias('LONGITUDE').cast('Double') \\\n",
    "        ).withColumn('LONGITUDE', col('LONGITUDE')*-1)"
   ]
  },
  {
   "cell_type": "code",
   "execution_count": 28,
   "metadata": {},
   "outputs": [
    {
     "data": {
      "text/plain": [
       "Row(AIRPORT_CODE='BGM', STATE='NY', CITY='Binghamton', NAME='Greater Binghamton/Edwin A Link field', STATION='USW00014738', LAITITUDE=42.0833, LONGITUDE=76.1)"
      ]
     },
     "execution_count": 28,
     "metadata": {},
     "output_type": "execute_result"
    }
   ],
   "source": [
    "geo.head()"
   ]
  },
  {
   "cell_type": "markdown",
   "metadata": {},
   "source": [
    "__Assign area for each airport/station__"
   ]
  },
  {
   "cell_type": "code",
   "execution_count": 29,
   "metadata": {},
   "outputs": [],
   "source": [
    "areas = geo.withColumn(\"AREA\",when((geo.LAITITUDE < SE[0][0]) & (geo.LONGITUDE < SE[0][1]),\"SE\") \\\n",
    "                                                .when((geo.LAITITUDE < NE[0][0]) & (geo.LONGITUDE < NE[0][1]),\"NE\") \\\n",
    "                                                .when((geo.LAITITUDE < MSE[0][0]) & (geo.LONGITUDE < MSE[0][1]),\"MSE\") \\\n",
    "                                                .when((geo.LAITITUDE < MNE[0][0]) & (geo.LONGITUDE < MNE[0][1]),\"MNE\") \\\n",
    "                                                .when((geo.LAITITUDE < MSW[0][0]) & (geo.LONGITUDE < MSW[0][1]),\"MSW\") \\\n",
    "                                                .when((geo.LAITITUDE < MNW[0][0]) & (geo.LONGITUDE < MNW[0][1]),\"MNW\") \\\n",
    "                                                .when((geo.LAITITUDE < SW[0][0]) & (geo.LONGITUDE < SW[0][1]),\"SW\") \\\n",
    "                                                .when((geo.LAITITUDE < NW[0][0]) & (geo.LONGITUDE < NW[0][1]),\"NW\") \\\n",
    "                                                .when((geo.LAITITUDE > NW[0][0]) & (geo.LONGITUDE > NW[0][1]),\"NW\") \\\n",
    "                                                .when((geo.LAITITUDE < SW[0][0]) & (geo.LONGITUDE > SW[0][1]),\"SW\") \\\n",
    "                                                .when((geo.LAITITUDE < SE[0][0]) & (geo.LONGITUDE < SE[0][1]),\"SE\") \\\n",
    "                                                .when((geo.LAITITUDE > NE[0][0]) & (geo.LONGITUDE < NE[0][1]),\"NE\") \\\n",
    "                                                .otherwise(geo.STATION)) \\\n",
    "                            .drop('LAITITUDE','LONGITUDE')"
   ]
  },
  {
   "cell_type": "code",
   "execution_count": 30,
   "metadata": {},
   "outputs": [
    {
     "data": {
      "text/plain": [
       "Row(AIRPORT_CODE='BGM', STATE='NY', CITY='Binghamton', NAME='Greater Binghamton/Edwin A Link field', STATION='USW00014738', AREA='NE')"
      ]
     },
     "execution_count": 30,
     "metadata": {},
     "output_type": "execute_result"
    }
   ],
   "source": [
    "areas.head()"
   ]
  },
  {
   "cell_type": "markdown",
   "metadata": {},
   "source": [
    "**Load preprocessed airport-station dataset and GHCND weather data**"
   ]
  },
  {
   "cell_type": "code",
   "execution_count": 31,
   "metadata": {},
   "outputs": [],
   "source": [
    "airports_stations =  spark.read.option(\"header\",True).csv('./data/airports_stations.csv')\n",
    "fl = spark.read.option(\"header\",True).csv('./data/flights/{}.csv'.format(YEAR))"
   ]
  },
  {
   "cell_type": "code",
   "execution_count": 32,
   "metadata": {},
   "outputs": [
    {
     "data": {
      "text/plain": [
       "Row(FL_DATE='2013-01-01', OP_CARRIER='VX', OP_CARRIER_FL_NUM='108', ORIGIN='LAX', DEST='IAD', CRS_DEP_TIME='700', DEP_TIME='700.0', DEP_DELAY='0.0', TAXI_OUT='8.0', WHEELS_OFF='708.0', WHEELS_ON='1411.0', TAXI_IN='7.0', CRS_ARR_TIME='1445', ARR_TIME='1418.0', ARR_DELAY='-27.0', CANCELLED='0.0', CANCELLATION_CODE=None, DIVERTED='0.0', CRS_ELAPSED_TIME='285.0', ACTUAL_ELAPSED_TIME='258.0', AIR_TIME='243.0', DISTANCE='2288.0', CARRIER_DELAY=None, WEATHER_DELAY=None, NAS_DELAY=None, SECURITY_DELAY=None, LATE_AIRCRAFT_DELAY=None, Unnamed: 27=None)"
      ]
     },
     "execution_count": 32,
     "metadata": {},
     "output_type": "execute_result"
    }
   ],
   "source": [
    "fl.head()"
   ]
  },
  {
   "cell_type": "code",
   "execution_count": 33,
   "metadata": {},
   "outputs": [],
   "source": [
    "df = fl.select([\n",
    "                'FL_DATE', \\\n",
    "                'OP_CARRIER', \\\n",
    "                'OP_CARRIER_FL_NUM', \\\n",
    "                'ORIGIN', \\\n",
    "                'DEST', \\\n",
    "                'CRS_DEP_TIME', \\\n",
    "                'DEP_DELAY', \\\n",
    "                'CRS_ARR_TIME', \\\n",
    "                'DIVERTED', \\\n",
    "                'CANCELLED', \\\n",
    "                'ARR_DELAY' \\\n",
    "                ])\n"
   ]
  },
  {
   "cell_type": "code",
   "execution_count": 34,
   "metadata": {},
   "outputs": [],
   "source": [
    "df = df.join(areas, fl.ORIGIN == areas.AIRPORT_CODE,'LeftOuter') \\\n",
    "                .drop('AIRPORT_CODE','STATE','CITY','NAME') \\\n",
    "                .withColumnRenamed('AREA', 'ORIG_AREA').drop('ORIGIN') \\\n",
    "                .withColumnRenamed('STATION', 'ORIG_STATION') \\\n",
    "        .join(areas, fl.DEST == areas.AIRPORT_CODE,'LeftOuter') \\\n",
    "                .drop('AIRPORT_CODE','STATE','CITY','NAME') \\\n",
    "                .withColumnRenamed('AREA', 'DEST_AREA').drop('DEST') \\\n",
    "                .withColumnRenamed('STATION', 'DEST_STATION')"
   ]
  },
  {
   "cell_type": "code",
   "execution_count": 35,
   "metadata": {},
   "outputs": [],
   "source": [
    "df = df.join(ghcnd_all,(df.ORIG_STATION == ghcnd_all.STATION_ID) & (ghcnd_all.DATE == date_format(df.FL_DATE,\"yyyyMMdd\")),'Inner') \\\n",
    "                .drop('STATION','AIRPORT_CODE','DATE','STATION_ID') \\\n",
    "                .withColumnRenamed('ELEMENT', 'ORIG_WEATHER') \\\n",
    "                .withColumnRenamed('DATA_VALUE', 'ORIG_WEATHER_DATA') \\\n",
    "        .join(ghcnd_all, (df.DEST_STATION == ghcnd_all.STATION_ID) & (ghcnd_all.DATE == date_format(df.FL_DATE,\"yyyyMMdd\")),'Inner') \\\n",
    "                .drop('STATION','AIRPORT_CODE','DATE','STATION_ID') \\\n",
    "                .withColumnRenamed('ELEMENT', 'DEST_WEATHER') \\\n",
    "                .withColumnRenamed('DATA_VALUE', 'DEST_WEATHER_DATA') \\\n",
    "        .filter(((col('ORIG_WEATHER_DATA').cast('Double') != 0) & (col('ORIG_WEATHER').rlike('(PRCP|SNOW|SNWD|^WD+|^WS+)'))) | \\\n",
    "                ((col('DEST_WEATHER_DATA').cast('Double') != 0) & (col('DEST_WEATHER').rlike('(PRCP|SNOW|SNWD|^WD+|^WS+)')))) \\\n",
    "        .drop('ORIG_WEATHER_DATA','DEST_WEATHER_DATA')"
   ]
  },
  {
   "cell_type": "code",
   "execution_count": 36,
   "metadata": {},
   "outputs": [],
   "source": [
    "df = df.withColumn('ORIG_WEATHER', when(~df.ORIG_WEATHER.rlike('(PRCP|SNOW|SNWD|^WD+|^WS+)'),\"SUNNY\") \\\n",
    "                                    .otherwise(df.ORIG_WEATHER)) \\\n",
    "        .withColumn('DEST_WEATHER', when(~df.DEST_WEATHER.rlike('(PRCP|SNOW|SNWD|^WD+|^WS+)'),\"SUNNY\") \\\n",
    "                                    .otherwise(df.DEST_WEATHER))"
   ]
  },
  {
   "cell_type": "code",
   "execution_count": 37,
   "metadata": {},
   "outputs": [],
   "source": [
    "df = df.groupBy('FL_DATE', \\\n",
    "                'OP_CARRIER', \\\n",
    "                'OP_CARRIER_FL_NUM', \\\n",
    "                'CRS_DEP_TIME', \\\n",
    "                'DEP_DELAY', \\\n",
    "                'CRS_ARR_TIME', \\\n",
    "                'ARR_DELAY', \\\n",
    "                'DIVERTED', \\\n",
    "                'CANCELLED', \\\n",
    "                'ORIG_STATION', \\\n",
    "                'ORIG_AREA', \\\n",
    "                'DEST_STATION', \\\n",
    "                'DEST_AREA') \\\n",
    "        .agg(collect_list('ORIG_WEATHER').alias('ORIG_WEATHERS'), collect_list('DEST_WEATHER').alias('DEST_WEATHERS'))"
   ]
  },
  {
   "cell_type": "code",
   "execution_count": 38,
   "metadata": {},
   "outputs": [],
   "source": [
    "df = df.withColumn('ORIG_WEATHER', when((array_contains(df.ORIG_WEATHERS,'SNWD') | array_contains(df.ORIG_WEATHERS,'SNOW') | array_contains(df.ORIG_WEATHERS,'WT18')),'Snow') \\\n",
    "                                    .when((array_contains(df.ORIG_WEATHERS,'PRCP') | array_contains(df.ORIG_WEATHERS,'WT16')),'Rain') \\\n",
    "                                    .when((array_contains(df.ORIG_WEATHERS,'WDF2') | array_contains(df.ORIG_WEATHERS,'WDF5') | array_contains(df.ORIG_WEATHERS,'WT11')),'Wind') \\\n",
    "                                    .otherwise('Sunny')) \\\n",
    "        .withColumn('DEST_WEATHER', when((array_contains(df.DEST_WEATHERS,'SNWD') | array_contains(df.DEST_WEATHERS,'SNOW') | array_contains(df.DEST_WEATHERS,'WT18')),'Snow') \\\n",
    "                                    .when((array_contains(df.DEST_WEATHERS,'PRCP') | array_contains(df.DEST_WEATHERS,'WT16')),'Rain') \\\n",
    "                                    .when((array_contains(df.DEST_WEATHERS,'WDF2') | array_contains(df.DEST_WEATHERS,'WDF5') | array_contains(df.DEST_WEATHERS,'WT11')),'Wind') \\\n",
    "                                    .otherwise('Sunny'))\n",
    "\n",
    "df = df.drop('ORIG_WEATHERS','DEST_WEATHERS','ORIG_STATION','DEST_STATION')"
   ]
  },
  {
   "cell_type": "code",
   "execution_count": 24,
   "metadata": {},
   "outputs": [
    {
     "name": "stderr",
     "output_type": "stream",
     "text": [
      "                                                                                \r"
     ]
    },
    {
     "data": {
      "text/plain": [
       "Row(FL_DATE='2013-01-01', OP_CARRIER='9E', OP_CARRIER_FL_NUM='3284', CRS_DEP_TIME='1545', DEP_DELAY='0.0', CRS_ARR_TIME='1740', ARR_DELAY='-23.0', ORIG_STATION='USW00094847', ORIG_AREA='MNE', DEST_STATION='USW00094789', DEST_AREA='NE', ORIG_WEATHER='Snow', DEST_WEATHER='Snow')"
      ]
     },
     "execution_count": 24,
     "metadata": {},
     "output_type": "execute_result"
    }
   ],
   "source": [
    "df.head()"
   ]
  },
  {
   "cell_type": "code",
   "execution_count": 39,
   "metadata": {},
   "outputs": [
    {
     "name": "stderr",
     "output_type": "stream",
     "text": [
      "                                                                                \r"
     ]
    }
   ],
   "source": [
    "df.coalesce(1).write.option('header',True).csv('./output/{}'.format(YEAR))"
   ]
  }
 ],
 "metadata": {
  "kernelspec": {
   "display_name": "Python 3.10.6 ('cs543_proj_1': venv)",
   "language": "python",
   "name": "python3"
  },
  "language_info": {
   "codemirror_mode": {
    "name": "ipython",
    "version": 3
   },
   "file_extension": ".py",
   "mimetype": "text/x-python",
   "name": "python",
   "nbconvert_exporter": "python",
   "pygments_lexer": "ipython3",
   "version": "3.10.6"
  },
  "orig_nbformat": 4,
  "vscode": {
   "interpreter": {
    "hash": "cde981a51954932d95cd0d2db88350bc6a3d7387d257ee815a180cd40a004a1b"
   }
  }
 },
 "nbformat": 4,
 "nbformat_minor": 2
}
