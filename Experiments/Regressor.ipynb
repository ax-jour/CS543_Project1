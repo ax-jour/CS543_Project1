{
 "cells": [
  {
   "cell_type": "code",
   "execution_count": null,
   "id": "87c84d3f-2073-4e5c-9238-0785b5aad5b8",
   "metadata": {},
   "outputs": [],
   "source": [
    "# import common libs\n",
    "from pyspark.sql import SparkSession\n",
    "import pandas as pd\n",
    "import numpy as np\n",
    "from pyspark.sql.types import *\n",
    "\n",
    "from pyspark.ml.feature import StringIndexer, OneHotEncoder, VectorAssembler\n",
    "\n",
    "# Import the evaluation submodule\n",
    "import pyspark.ml.evaluation as evals\n",
    "\n",
    "# Import LogisticRegression\n",
    "from pyspark.ml.classification import LogisticRegression"
   ]
  },
  {
   "cell_type": "code",
   "execution_count": 17,
   "id": "94dd847c-6204-4f7f-9a83-c33c01109b5b",
   "metadata": {},
   "outputs": [],
   "source": [
    "from pyspark.sql import SparkSession\n",
    "from pyspark.sql.functions import *\n",
    "\n",
    "spark = SparkSession \\\n",
    "        .builder \\\n",
    "        .master(\"local[*]\") \\\n",
    "        .config(\"spark.executor.memory\", \"16g\") \\\n",
    "        .config(\"spark.driver.memory\", \"16g\") \\\n",
    "        .config(\"spark.memory.offHeap.enabled\",True) \\\n",
    "        .config(\"spark.memory.offHeap.size\",\"16g\") \\\n",
    "        .appName(\"Airline\") \\\n",
    "        .getOrCreate()\n",
    "\n",
    "\n",
    "        # .config(\"spark.sql.shuffle.partitions\",60) \\"
   ]
  },
  {
   "cell_type": "markdown",
   "id": "816c1753-7521-405b-ba25-3a5f89cb0de6",
   "metadata": {},
   "source": [
    "##### Importing Dataframe"
   ]
  },
  {
   "cell_type": "code",
   "execution_count": 18,
   "id": "45bdd3c8-c091-4c52-9857-5a11d1cd816c",
   "metadata": {
    "scrolled": true,
    "tags": []
   },
   "outputs": [
    {
     "name": "stdout",
     "output_type": "stream",
     "text": [
      "+-------+----------+-----------------+------+----+------------+--------+---------+--------+----------+---------+-------+------------+--------+---------+---------+-----------------+--------+----------------+-------------------+--------+--------+-------------+-------------+---------+--------------+-------------------+-----------+\n",
      "|FL_DATE|OP_CARRIER|OP_CARRIER_FL_NUM|ORIGIN|DEST|CRS_DEP_TIME|DEP_TIME|DEP_DELAY|TAXI_OUT|WHEELS_OFF|WHEELS_ON|TAXI_IN|CRS_ARR_TIME|ARR_TIME|ARR_DELAY|CANCELLED|CANCELLATION_CODE|DIVERTED|CRS_ELAPSED_TIME|ACTUAL_ELAPSED_TIME|AIR_TIME|DISTANCE|CARRIER_DELAY|WEATHER_DELAY|NAS_DELAY|SECURITY_DELAY|LATE_AIRCRAFT_DELAY|Unnamed: 27|\n",
      "+-------+----------+-----------------+------+----+------------+--------+---------+--------+----------+---------+-------+------------+--------+---------+---------+-----------------+--------+----------------+-------------------+--------+--------+-------------+-------------+---------+--------------+-------------------+-----------+\n",
      "|      0|         0|                0|     0|   0|           0|       0|        0|       0|         0|        0|      0|           0|       0|        0|        0|                0|       0|               0|                  0|       0|       0|            0|            0|        0|             0|                  0|          0|\n",
      "+-------+----------+-----------------+------+----+------------+--------+---------+--------+----------+---------+-------+------------+--------+---------+---------+-----------------+--------+----------------+-------------------+--------+--------+-------------+-------------+---------+--------------+-------------------+-----------+\n",
      "\n"
     ]
    }
   ],
   "source": [
    "flights_df = spark.read.option(\"header\",True).csv('Data_Dump/data/flights/2013.csv')\n",
    "flights_df.createOrReplaceTempView(\"Flights\")\n",
    "flights_df=flights_df.select([when(col(c).contains('None') | \\\n",
    "                            col(c).contains('NULL') | \\\n",
    "                            (col(c) == '' ) | \\\n",
    "                            col(c).isNull() | \\\n",
    "                            isnan(c),0).otherwise(col(c)).alias(c) for c in flights_df.columns])\n",
    "#checking if the file has any NaN values\n",
    "flights_df.select([count(when(isnan(c) | col(c).isNull(), c)).alias(c) for c in flights_df.columns]).show()\n"
   ]
  },
  {
   "cell_type": "code",
   "execution_count": 8,
   "id": "16b74aad-c8ac-4ebb-83c4-04eb09121527",
   "metadata": {},
   "outputs": [
    {
     "data": {
      "text/plain": [
       "6369482"
      ]
     },
     "execution_count": 8,
     "metadata": {},
     "output_type": "execute_result"
    }
   ],
   "source": [
    "flights_df.count()"
   ]
  },
  {
   "cell_type": "markdown",
   "id": "2baecc35-3885-4fc1-a7a5-6644e2cfb515",
   "metadata": {},
   "source": [
    "##### Cleaning Dataframe"
   ]
  },
  {
   "cell_type": "code",
   "execution_count": 19,
   "id": "50781738-8f7a-4351-8633-fbe19c12ed76",
   "metadata": {},
   "outputs": [],
   "source": [
    "from sklearn.preprocessing import LabelEncoder, OneHotEncoder\n",
    "\n",
    "replaceCols=['OP_CARRIER','OP_CARRIER_FL_NUM','ORIGIN','DEST','CRS_DEP_TIME','DEP_DELAY','CRS_ARR_TIME','DIVERTED','CANCELLED','ARR_DELAY','ARR_TIME','DISTANCE','ACTUAL_ELAPSED_TIME','AIR_TIME','TAXI_IN','TAXI_OUT']\n",
    "df=flights_df.select([when(col(c).contains('None') | \\\n",
    "                            col(c).contains('NULL') | \\\n",
    "                            (col(c) == '' ) | \\\n",
    "                            col(c).isNull() | \\\n",
    "                            isnan(c),0).otherwise(col(c)).alias(c) for c in replaceCols])\n",
    "\n",
    "df = df.withColumn(\"DISTANCE\", df[\"DISTANCE\"].cast(IntegerType()))\n",
    "df = df.withColumn(\"ARR_TIME\", df[\"ARR_TIME\"].cast(IntegerType()))\n",
    "df = df.withColumn(\"ARR_DELAY\", df[\"ARR_DELAY\"].cast(IntegerType()))\n",
    "df = df.withColumn(\"CANCELLED\", df[\"CANCELLED\"].cast(IntegerType()))\n",
    "df = df.withColumn(\"DIVERTED\", df[\"DIVERTED\"].cast(IntegerType()))\n",
    "df = df.withColumn(\"CRS_ARR_TIME\", df[\"CRS_ARR_TIME\"].cast(IntegerType()))\n",
    "df = df.withColumn(\"CRS_DEP_TIME\", df[\"CRS_DEP_TIME\"].cast(IntegerType()))\n",
    "df = df.withColumn(\"OP_CARRIER_FL_NUM\", df[\"OP_CARRIER_FL_NUM\"].cast(IntegerType()))\n",
    "df = df.withColumn(\"DEP_DELAY\", df[\"DEP_DELAY\"].cast(IntegerType()))\n",
    "\n",
    "df.createOrReplaceTempView(\"fl_df\")\n",
    "query=\"select * from fl_df where DEP_DELAY<=150\" #outliers\n",
    "df=spark.sql(query)\n",
    "\n"
   ]
  },
  {
   "cell_type": "markdown",
   "id": "3ac7acc4-720f-46fa-87a0-1e52ce28a9d4",
   "metadata": {},
   "source": [
    "##### Encoding Labels"
   ]
  },
  {
   "cell_type": "code",
   "execution_count": 5,
   "id": "76e44775-b8df-40a6-99b8-de5789ee44ec",
   "metadata": {},
   "outputs": [],
   "source": [
    "from sklearn.preprocessing import StandardScaler\n",
    "from sklearn.model_selection import train_test_split\n",
    "from sklearn.preprocessing import LabelEncoder\n",
    "\n",
    "le = LabelEncoder()\n",
    "fl_df=df.toPandas()\n",
    "fl_df['OP_CARRIER']= le.fit_transform(fl_df['OP_CARRIER'])\n",
    "fl_df['ORIGIN'] = le.fit_transform(fl_df['ORIGIN'])\n",
    "fl_df['DEST'] = le.fit_transform(fl_df['DEST'])\n"
   ]
  },
  {
   "cell_type": "code",
   "execution_count": 6,
   "id": "2aa22dc0-d099-4a57-88c3-cb8d6b8fd0b3",
   "metadata": {},
   "outputs": [
    {
     "data": {
      "text/plain": [
       "0    0\n",
       "1   -1\n",
       "2   -1\n",
       "3    0\n",
       "4    4\n",
       "Name: DEP_DELAY, dtype: int32"
      ]
     },
     "execution_count": 6,
     "metadata": {},
     "output_type": "execute_result"
    }
   ],
   "source": [
    "X = fl_df.drop(['DEP_DELAY','CRS_DEP_TIME','OP_CARRIER_FL_NUM','ARR_TIME'],axis = 1)\n",
    "X.shape\n",
    "y = fl_df['DEP_DELAY']\n",
    "y.head()\n"
   ]
  },
  {
   "cell_type": "code",
   "execution_count": 7,
   "id": "6da38009-b0ad-48e8-82a6-94fdf6fdcd6a",
   "metadata": {},
   "outputs": [],
   "source": [
    "X_train,X_test,y_train,y_test = train_test_split(X,y,test_size=0.25,random_state = 5)\n"
   ]
  },
  {
   "cell_type": "code",
   "execution_count": 8,
   "id": "a22cad6b-0736-40e4-a8f7-dde0cf79b1a4",
   "metadata": {},
   "outputs": [],
   "source": [
    "sc1=StandardScaler()\n",
    "X_train_sc=sc1.fit_transform(X_train)\n",
    "X_test_sc=sc1.transform(X_test)"
   ]
  },
  {
   "cell_type": "markdown",
   "id": "9cca381d-77cd-4471-a852-5b21fcd2801b",
   "metadata": {},
   "source": [
    "### Boosted Linear Regression: Ada Boost"
   ]
  },
  {
   "cell_type": "code",
   "execution_count": 19,
   "id": "577a7fde-8221-4d31-ac54-4662f9494373",
   "metadata": {},
   "outputs": [
    {
     "name": "stdout",
     "output_type": "stream",
     "text": [
      "MAE: 11.009053409304611\n",
      "MSE: 242.58325019101613\n",
      "RMSE: 15.575084275567056\n",
      "R2: 0.5611429499382903\n"
     ]
    }
   ],
   "source": [
    "from sklearn.ensemble import AdaBoostRegressor\n",
    "Boost_Lin = AdaBoostRegressor(base_estimator=LinR,random_state=2)\n",
    "\n",
    "fitResultBl = Boost_Lin.fit(X_train_sc,y_train)\n",
    "predictedValues = fitResultBl.predict(X_test_sc)\n",
    "print ('MAE:' ,  mean_absolute_error(y_test, predictedValues))\n",
    "print ('MSE:' , mean_squared_error(y_test, predictedValues))\n",
    "print('RMSE:' , np.sqrt(mean_squared_error(y_test, predictedValues)))\n",
    "print ('R2:' , r2_score(y_test, predictedValues))\n",
    "\n"
   ]
  },
  {
   "cell_type": "code",
   "execution_count": 23,
   "id": "3d95bcf3-5d20-4b61-b465-702471e3469e",
   "metadata": {},
   "outputs": [
    {
     "data": {
      "image/png": "[encoded data removed]",
      "text/plain": [
       "<Figure size 432x288 with 1 Axes>"
      ]
     },
     "metadata": {
      "needs_background": "light"
     },
     "output_type": "display_data"
    }
   ],
   "source": [
    "import matplotlib.pyplot as plt\n",
    "fig, ax = plt.subplots()\n",
    "ax.scatter(y_test, predictedValues,color='green')\n",
    "ax.plot([y.min(), y.max()], [y.min(), y.max()], 'k--', lw=4)\n",
    "ax.set_xlabel('Actual')\n",
    "ax.set_ylabel('Predicted')\n",
    "plt.title(\"Predicted vs Actual - Boosted Linear Regression: Ada Boost\")\n",
    "\n",
    "plt.show() \n",
    "\n"
   ]
  },
  {
   "cell_type": "markdown",
   "id": "769c5c9f-f912-4b7f-8ff0-4f7fcb1cb461",
   "metadata": {},
   "source": [
    "### Linear Regression"
   ]
  },
  {
   "cell_type": "code",
   "execution_count": 24,
   "id": "9336033c-2149-400d-b629-c0ac3e017e4c",
   "metadata": {},
   "outputs": [
    {
     "name": "stdout",
     "output_type": "stream",
     "text": [
      "MAE: 6.170999143951996\n",
      "MSE: 71.5234776119783\n",
      "RMSE: 8.45715540900002\n",
      "R2: 0.8706069674215702\n"
     ]
    }
   ],
   "source": [
    "from sklearn.linear_model import LinearRegression\n",
    "LinR = LinearRegression()\n",
    "from sklearn.metrics import mean_absolute_error,mean_squared_error,r2_score\n",
    "\n",
    "fitResult = LinR.fit(X_train_sc,y_train)\n",
    "y_pred = fitResult.predict(X_test_sc)\n",
    "print ('MAE:' ,  mean_absolute_error(y_test, y_pred))\n",
    "print ('MSE:' , mean_squared_error(y_test, y_pred))\n",
    "print('RMSE:' , np.sqrt(mean_squared_error(y_test, y_pred)))\n",
    "print ('R2:' , r2_score(y_test, y_pred))\n"
   ]
  },
  {
   "cell_type": "code",
   "execution_count": 26,
   "id": "e7c7423e-53cf-408d-ae41-f7bad9ed44f8",
   "metadata": {},
   "outputs": [
    {
     "data": {
      "image/png": "[encoded data removed]",
      "text/plain": [
       "<Figure size 432x288 with 1 Axes>"
      ]
     },
     "metadata": {
      "needs_background": "light"
     },
     "output_type": "display_data"
    }
   ],
   "source": [
    "import matplotlib.pyplot as plt\n",
    "fig, ax = plt.subplots()\n",
    "ax.scatter(y_test, y_pred,color='green')\n",
    "ax.plot([y.min(), y.max()], [y.min(), y.max()], 'k--', lw=4)\n",
    "ax.set_xlabel('Actual')\n",
    "ax.set_ylabel('Predicted')\n",
    "plt.title(\"Predicted vs Actual - Linear Regressor\")\n",
    "plt.show() \n",
    "\n"
   ]
  },
  {
   "cell_type": "markdown",
   "id": "e6d6401c-0d76-4cb6-a6cf-215ca40f4fbb",
   "metadata": {},
   "source": [
    "### Decision Tree Regressor"
   ]
  },
  {
   "cell_type": "code",
   "execution_count": 27,
   "id": "2ee9c8ad-00ec-4a00-b917-5907dd3ba964",
   "metadata": {},
   "outputs": [
    {
     "name": "stdout",
     "output_type": "stream",
     "text": [
      "MAE: 4.8164305314622355\n",
      "MSE: 59.62379502999317\n",
      "RMSE: 7.72164458065723\n",
      "R2: 0.8921346680789263\n"
     ]
    }
   ],
   "source": [
    "from sklearn.tree import DecisionTreeRegressor\n",
    "from sklearn.metrics import mean_absolute_error,mean_squared_error,r2_score\n",
    "\n",
    "Dtc = DecisionTreeRegressor(random_state = 2)\n",
    "fitResultdtc = Dtc.fit(X_train_sc,y_train)\n",
    "predictedValues = fitResultdtc.predict(X_test_sc)\n",
    "print ('MAE:' ,  mean_absolute_error(y_test, predictedValues))\n",
    "print ('MSE:' , mean_squared_error(y_test, predictedValues))\n",
    "print('RMSE:' , np.sqrt(mean_squared_error(y_test, predictedValues)))\n",
    "print ('R2:' , r2_score(y_test, predictedValues))\n",
    "\n"
   ]
  },
  {
   "cell_type": "code",
   "execution_count": 29,
   "id": "7c27059a-ccaa-440b-8ee9-70a2846fdaf8",
   "metadata": {},
   "outputs": [
    {
     "data": {
      "image/png": "[encoded data removed]",
      "text/plain": [
       "<Figure size 432x288 with 1 Axes>"
      ]
     },
     "metadata": {
      "needs_background": "light"
     },
     "output_type": "display_data"
    }
   ],
   "source": [
    "import matplotlib.pyplot as plt\n",
    "fig, ax = plt.subplots()\n",
    "ax.scatter(y_test, predictedValues, color='green')\n",
    "ax.plot([y.min(), y.max()], [y.min(), y.max()], 'k--', lw=4)\n",
    "ax.set_xlabel('Actual Delays')\n",
    "ax.set_ylabel('Predicted Prelays')\n",
    "plt.title(\"Predicted vs Actual - Decision Tree Regressor\")\n",
    "plt.show() \n"
   ]
  },
  {
   "cell_type": "code",
   "execution_count": 31,
   "id": "e5b4a74a-f9fd-424c-a76b-9413054a12e2",
   "metadata": {},
   "outputs": [],
   "source": [
    "import pickle\n",
    "#saving the three models\n",
    "pickle.dump(fitResult, open('modelLinearReg.pkl', 'wb'))\n",
    "pickle.dump(fitResultBl, open('modelAdaBoost.pkl', 'wb'))\n",
    "pickle.dump(fitResultdtc, open('modelDecision.pkl', 'wb'))"
   ]
  },
  {
   "cell_type": "markdown",
   "id": "d9e20731-233c-4e1d-b63d-f3dc413b2156",
   "metadata": {},
   "source": [
    "### Logistic regression\n"
   ]
  },
  {
   "cell_type": "code",
   "execution_count": null,
   "id": "991a6d15-86e3-4024-984b-9dfd06c7c202",
   "metadata": {},
   "outputs": [],
   "source": [
    "# has a huge runtime so killed by ilab each time\n",
    "\n",
    "# from sklearn.linear_model import LogisticRegression\n",
    "# classifier = LogisticRegression(random_state = 5)\n",
    "# classifier.fit(X_train_sc, y_train)\n",
    "\n",
    "# y_pred = classifier.predict(X_test_sc)\n",
    "\n",
    "# # Making the Confusion Matrix\n",
    "# score = classifier.score(X_test_sc,y_test)\n",
    "# #cm = confusion_matrix(y_test, y_pred)\n"
   ]
  },
  {
   "cell_type": "code",
   "execution_count": null,
   "id": "7d135c5f-ad0e-462e-9ed8-c758686d4875",
   "metadata": {},
   "outputs": [],
   "source": []
  },
  {
   "cell_type": "markdown",
   "id": "40b2dae7-4c17-4575-af8e-b692a786690a",
   "metadata": {},
   "source": [
    "### K nearest neighbours classifier\n",
    "\n"
   ]
  },
  {
   "cell_type": "code",
   "execution_count": null,
   "id": "c284b582-3195-4444-9d5b-4a28443b0f65",
   "metadata": {},
   "outputs": [],
   "source": [
    "# #has a huge runtime so killed by ilab each time\n",
    "# from sklearn.neighbors import KNeighborsClassifier\n",
    "# objClassifier=KNeighborsClassifier(n_neighbors=10,metric='minkowski',p=2)\n",
    "# objClassifier.fit(X_train_sc,y_train)\n",
    "\n",
    "# y_pred=objClassifier.predict(X_test_sc)\n",
    "\n",
    "# #Making the confussion matarix \n",
    "\n",
    "# from sklearn.metrics import confusion_matrix\n",
    "# cm=confusion_matrix(y_test,y_pred)\n",
    "\n",
    "# score=objClassifier.score(X_test,y_test)\n"
   ]
  },
  {
   "cell_type": "code",
   "execution_count": 14,
   "id": "7318183b-ea13-4398-87f7-214d5d304f9d",
   "metadata": {},
   "outputs": [],
   "source": [
    "import _pickle as cPickle\n",
    "#file = pickle.load('modelAdaBoost.pkl')\n",
    "with open(r\"modelAdaBoost.pkl\", \"rb\") as input_file:\n",
    "    e = cPickle.load(input_file)"
   ]
  },
  {
   "cell_type": "code",
   "execution_count": 16,
   "id": "b1a69a00-cb88-4c11-b0da-c3b414d2e9b4",
   "metadata": {},
   "outputs": [
    {
     "ename": "TypeError",
     "evalue": "'AdaBoostRegressor' object is not callable",
     "output_type": "error",
     "traceback": [
      "\u001b[0;31m---------------------------------------------------------------------------\u001b[0m",
      "\u001b[0;31mTypeError\u001b[0m                                 Traceback (most recent call last)",
      "\u001b[0;32m<ipython-input-16-43affd39dd31>\u001b[0m in \u001b[0;36m<module>\u001b[0;34m\u001b[0m\n\u001b[0;32m----> 1\u001b[0;31m \u001b[0mprint\u001b[0m\u001b[0;34m(\u001b[0m\u001b[0me\u001b[0m\u001b[0;34m(\u001b[0m\u001b[0;34m[\u001b[0m\u001b[0;36m1\u001b[0m\u001b[0;34m,\u001b[0m\u001b[0;36m2\u001b[0m\u001b[0;34m,\u001b[0m\u001b[0;36m3\u001b[0m\u001b[0;34m,\u001b[0m\u001b[0;36m4\u001b[0m\u001b[0;34m]\u001b[0m\u001b[0;34m)\u001b[0m\u001b[0;34m)\u001b[0m\u001b[0;34m\u001b[0m\u001b[0;34m\u001b[0m\u001b[0m\n\u001b[0m",
      "\u001b[0;31mTypeError\u001b[0m: 'AdaBoostRegressor' object is not callable"
     ]
    }
   ],
   "source": [
    "print(e([1,2,3,4]))"
   ]
  },
  {
   "cell_type": "code",
   "execution_count": null,
   "id": "0bc02d01-76e0-4a76-9d80-fd92e501a3fd",
   "metadata": {},
   "outputs": [],
   "source": []
  }
 ],
 "metadata": {
  "kernelspec": {
   "display_name": "Spark 3 in Python 3",
   "language": "python",
   "name": "pyspark3"
  },
  "language_info": {
   "codemirror_mode": {
    "name": "ipython",
    "version": 3
   },
   "file_extension": ".py",
   "mimetype": "text/x-python",
   "name": "python",
   "nbconvert_exporter": "python",
   "pygments_lexer": "ipython3",
   "version": "3.9.5"
  }
 },
 "nbformat": 4,
 "nbformat_minor": 5
}
