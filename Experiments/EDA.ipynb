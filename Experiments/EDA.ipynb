{
 "cells": [
  {
   "cell_type": "markdown",
   "id": "35cab241-e35e-4a41-b263-66bb5e765fd3",
   "metadata": {},
   "source": [
    "# Exploratory Data Analysis"
   ]
  },
  {
   "cell_type": "markdown",
   "id": "5d4b6d9a-515e-47cd-b5dc-5d1798a207a3",
   "metadata": {},
   "source": [
    "### Exploration: EDA for 2013 flight data."
   ]
  },
  {
   "cell_type": "code",
   "execution_count": 4,
   "id": "0e10d28b-06f5-4114-a1fb-1e5d9e13408e",
   "metadata": {},
   "outputs": [],
   "source": [
    "from pyspark.sql import SparkSession\n",
    "from pyspark.sql.functions import *\n",
    "\n",
    "spark = SparkSession \\\n",
    "        .builder \\\n",
    "        .master(\"local[*]\") \\\n",
    "        .config(\"spark.executor.memory\", \"16g\") \\\n",
    "        .config(\"spark.driver.memory\", \"16g\") \\\n",
    "        .config(\"spark.memory.offHeap.enabled\",True) \\\n",
    "        .config(\"spark.memory.offHeap.size\",\"16g\") \\\n",
    "        .appName(\"Airline\") \\\n",
    "        .getOrCreate()\n",
    "\n",
    "\n",
    "        # .config(\"spark.sql.shuffle.partitions\",60) \\"
   ]
  },
  {
   "cell_type": "code",
   "execution_count": 5,
   "id": "353d46ed-1969-4d29-b398-b74ad4cb4620",
   "metadata": {},
   "outputs": [
    {
     "name": "stdout",
     "output_type": "stream",
     "text": [
      "+-------+----------+-----------------+------+----+------------+--------+---------+--------+----------+---------+-------+------------+--------+---------+---------+-----------------+--------+----------------+-------------------+--------+--------+-------------+-------------+---------+--------------+-------------------+-----------+\n",
      "|FL_DATE|OP_CARRIER|OP_CARRIER_FL_NUM|ORIGIN|DEST|CRS_DEP_TIME|DEP_TIME|DEP_DELAY|TAXI_OUT|WHEELS_OFF|WHEELS_ON|TAXI_IN|CRS_ARR_TIME|ARR_TIME|ARR_DELAY|CANCELLED|CANCELLATION_CODE|DIVERTED|CRS_ELAPSED_TIME|ACTUAL_ELAPSED_TIME|AIR_TIME|DISTANCE|CARRIER_DELAY|WEATHER_DELAY|NAS_DELAY|SECURITY_DELAY|LATE_AIRCRAFT_DELAY|Unnamed: 27|\n",
      "+-------+----------+-----------------+------+----+------------+--------+---------+--------+----------+---------+-------+------------+--------+---------+---------+-----------------+--------+----------------+-------------------+--------+--------+-------------+-------------+---------+--------------+-------------------+-----------+\n",
      "|      0|         0|                0|     0|   0|           0|       0|        0|       0|         0|        0|      0|           0|       0|        0|        0|                0|       0|               0|                  0|       0|       0|            0|            0|        0|             0|                  0|          0|\n",
      "+-------+----------+-----------------+------+----+------------+--------+---------+--------+----------+---------+-------+------------+--------+---------+---------+-----------------+--------+----------------+-------------------+--------+--------+-------------+-------------+---------+--------------+-------------------+-----------+\n",
      "\n"
     ]
    }
   ],
   "source": [
    "flights_df = spark.read.option(\"header\",True).csv('Data_Dump/data/flights/')\n",
    "flights_df.createOrReplaceTempView(\"Flights\")\n",
    "flights_df=flights_df.select([when(col(c).contains('None') | \\\n",
    "                            col(c).contains('NULL') | \\\n",
    "                            (col(c) == '' ) | \\\n",
    "                            col(c).isNull() | \\\n",
    "                            isnan(c),0).otherwise(col(c)).alias(c) for c in flights_df.columns])\n",
    "#checking if the file has any NaN values\n",
    "flights_df.select([count(when(isnan(c) | col(c).isNull(), c)).alias(c) for c in flights_df.columns]).show()\n"
   ]
  },
  {
   "cell_type": "markdown",
   "id": "e00378dc-d4b4-42b1-b871-298494f82128",
   "metadata": {},
   "source": [
    "### Exploration: Which Airports have the Most Delays?"
   ]
  },
  {
   "cell_type": "code",
   "execution_count": 3,
   "id": "d3c9f2b8-e2ee-4598-81f4-b3a77fb171cf",
   "metadata": {},
   "outputs": [],
   "source": [
    "groupedDelay = spark.sql(\"SELECT ORIGIN, count(*) conFlight ,avg(DEP_DELAY) delay \\\n",
    "                                FROM Flights \\\n",
    "                                GROUP BY ORIGIN\")\n",
    "\n",
    "df_origin = groupedDelay.toPandas()\n",
    "df_origin=df_origin.sort_values('delay',ascending=0).head(10)"
   ]
  },
  {
   "cell_type": "code",
   "execution_count": 31,
   "id": "db698803-207e-495a-8742-dece62e8bd16",
   "metadata": {},
   "outputs": [
    {
     "data": {
      "image/png": "[encoded data removed]",
      "text/plain": [
       "<Figure size 432x288 with 1 Axes>"
      ]
     },
     "metadata": {
      "needs_background": "light"
     },
     "output_type": "display_data"
    }
   ],
   "source": [
    "from __future__ import division\n",
    "import matplotlib.pyplot as plt\n",
    "import numpy as np\n",
    "\n",
    "x = df_origin['ORIGIN']\n",
    "y = df_origin['delay']\n",
    "fig, ax = plt.subplots()\n",
    "ax.set_title(\"Airports with max delay: 2013\")\n",
    "plt.xlabel('Airports')\n",
    "plt.ylabel('Average Delay')\n",
    "ax.bar(x, y, width, color='g', edgecolor=\"white\", linewidth=0.7)\n",
    "plt.show()"
   ]
  },
  {
   "cell_type": "markdown",
   "id": "1197106f-8f5b-437a-9cac-2061d60aa72c",
   "metadata": {},
   "source": [
    "### How much delay does each carrier have in a month"
   ]
  },
  {
   "cell_type": "code",
   "execution_count": 21,
   "id": "2bb57ad6-b58b-4500-b3c3-9c26b815e531",
   "metadata": {},
   "outputs": [],
   "source": [
    "Origin_Airport=\"EWR\"\n",
    "df_ORG = sqlContext.sql(\"SELECT * from Flights WHERE ORIGIN='\"+ Origin_Airport+\"'\")\n",
    "df_ORG.createOrReplaceTempView(\"df_ORG\")\n",
    "#UniqueCarrier=sqlContext.sql(\"SELECT DISTINCT(OP_CARRIER) from Flights\")"
   ]
  },
  {
   "cell_type": "code",
   "execution_count": 23,
   "id": "b14caa24-d24d-4fa3-8ce9-c17d5d54065f",
   "metadata": {},
   "outputs": [
    {
     "name": "stdout",
     "output_type": "stream",
     "text": [
      "total flights from this EWR from 1st JAN 2013 to 31st DEC 2013 : 1182327\n"
     ]
    }
   ],
   "source": [
    "print(\"total flights from this EWR from 1st JAN 2013 to 31st DEC 2013 : \" + str(df_ORG.count()))"
   ]
  },
  {
   "cell_type": "code",
   "execution_count": 31,
   "id": "e653b9cf-ca1f-44f1-aa96-035afd60c660",
   "metadata": {},
   "outputs": [
    {
     "data": {
      "text/plain": [
       "Text(0.5, 1.0, 'How much delay does EWR(Newark Liberty) has in each month?')"
      ]
     },
     "execution_count": 31,
     "metadata": {},
     "output_type": "execute_result"
    },
    {
     "data": {
      "image/png": "[encoded data removed]",
      "text/plain": [
       "<Figure size 576x360 with 1 Axes>"
      ]
     },
     "metadata": {
      "needs_background": "light"
     },
     "output_type": "display_data"
    }
   ],
   "source": [
    "from pylab import rcParams\n",
    "import matplotlib.pyplot as plt\n",
    "\n",
    "grp_carr = sqlContext.sql(\"SELECT  OP_CARRIER,MONTH(FL_DATE) as Month, avg(DEP_DELAY) avgDelay from df_ORG \\\n",
    "                            WHERE DEP_DELAY>0\\\n",
    "                            GROUP BY OP_CARRIER,MONTH(FL_DATE)\")\n",
    "s = grp_carr.toPandas()\n",
    "ps = s.pivot(index='Month', columns='OP_CARRIER', values='avgDelay')[['AA','UA','US']]\n",
    "rcParams['figure.figsize'] = (8,5)\n",
    "ps.plot(kind='bar', colormap='Dark2');\n",
    "plt.xlabel('Month')\n",
    "plt.ylabel('Average Delays')\n",
    "plt.title('How much delay does EWR(Newark Liberty) has in each month?')"
   ]
  },
  {
   "cell_type": "markdown",
   "id": "38a4e631-7b35-4c8d-b671-215df2107b5e",
   "metadata": {},
   "source": [
    "### What are primary reasons for delay?"
   ]
  },
  {
   "cell_type": "code",
   "execution_count": 6,
   "id": "54ed7c8b-80a1-4c5d-b032-1422aa644c34",
   "metadata": {},
   "outputs": [],
   "source": [
    "cause_delay = sqlContext.sql(\"SELECT sum(WEATHER_DELAY) Weather,sum(NAS_DELAY) NAS,sum(SECURITY_DELAY) Security,sum(LATE_AIRCRAFT_DELAY) lateAircraft,sum(CARRIER_DELAY) Carrier\\\n",
    "                              FROM Flights \")\n"
   ]
  },
  {
   "cell_type": "code",
   "execution_count": 7,
   "id": "c6f7f2c9-75a1-42ee-9e29-370292fe2aba",
   "metadata": {},
   "outputs": [
    {
     "data": {
      "text/html": [
       "<div>\n",
       "<style scoped>\n",
       "    .dataframe tbody tr th:only-of-type {\n",
       "        vertical-align: middle;\n",
       "    }\n",
       "\n",
       "    .dataframe tbody tr th {\n",
       "        vertical-align: top;\n",
       "    }\n",
       "\n",
       "    .dataframe thead th {\n",
       "        text-align: right;\n",
       "    }\n",
       "</style>\n",
       "<table border=\"1\" class=\"dataframe\">\n",
       "  <thead>\n",
       "    <tr style=\"text-align: right;\">\n",
       "      <th></th>\n",
       "      <th>Weather</th>\n",
       "      <th>NAS</th>\n",
       "      <th>Security</th>\n",
       "      <th>lateAircraft</th>\n",
       "      <th>Carrier</th>\n",
       "    </tr>\n",
       "  </thead>\n",
       "  <tbody>\n",
       "    <tr>\n",
       "      <th>0</th>\n",
       "      <td>30271933.0</td>\n",
       "      <td>164069226.0</td>\n",
       "      <td>894499.0</td>\n",
       "      <td>265217564.0</td>\n",
       "      <td>202989368.0</td>\n",
       "    </tr>\n",
       "  </tbody>\n",
       "</table>\n",
       "</div>"
      ],
      "text/plain": [
       "      Weather          NAS  Security  lateAircraft      Carrier\n",
       "0  30271933.0  164069226.0  894499.0   265217564.0  202989368.0"
      ]
     },
     "execution_count": 7,
     "metadata": {},
     "output_type": "execute_result"
    }
   ],
   "source": [
    "df_cause_delay = cause_delay.toPandas()\n",
    "df_cause_delay.head()"
   ]
  },
  {
   "cell_type": "code",
   "execution_count": null,
   "id": "2afa699b-1fd3-4610-b47e-ea2696013a0e",
   "metadata": {},
   "outputs": [],
   "source": []
  }
 ],
 "metadata": {
  "kernelspec": {
   "display_name": "Spark 3 in Python 3",
   "language": "python",
   "name": "pyspark3"
  },
  "language_info": {
   "codemirror_mode": {
    "name": "ipython",
    "version": 3
   },
   "file_extension": ".py",
   "mimetype": "text/x-python",
   "name": "python",
   "nbconvert_exporter": "python",
   "pygments_lexer": "ipython3",
   "version": "3.9.5"
  }
 },
 "nbformat": 4,
 "nbformat_minor": 5
}
