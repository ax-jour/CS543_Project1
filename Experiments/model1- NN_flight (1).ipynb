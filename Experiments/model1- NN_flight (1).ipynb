{
 "cells": [
  {
   "cell_type": "markdown",
   "metadata": {},
   "source": [
    "### Flight Delay Classification Problem "
   ]
  },
  {
   "cell_type": "markdown",
   "metadata": {},
   "source": [
    "##### Importing Libraries"
   ]
  },
  {
   "cell_type": "code",
   "execution_count": null,
   "metadata": {},
   "outputs": [],
   "source": [
    "import numpy as np\n",
    "import matplotlib.pyplot as plt\n",
    "import pandas as pd\n",
    "import os\n",
    "import tensorflow as tf\n",
    "from tensorflow.keras.utils import to_categorical\n"
   ]
  },
  {
   "cell_type": "code",
   "execution_count": 13,
   "metadata": {},
   "outputs": [],
   "source": [
    "# Importing the dataset\n",
    "dataset = pd.read_csv('output/class2013/2013.csv', header = 0)\n",
    "X = dataset.iloc[:, :12].values\n",
    "y = dataset.iloc[:,12].values"
   ]
  },
  {
   "cell_type": "code",
   "execution_count": null,
   "metadata": {},
   "outputs": [],
   "source": [
    "##### Converting labels to continuous categories"
   ]
  },
  {
   "cell_type": "code",
   "execution_count": 14,
   "metadata": {},
   "outputs": [],
   "source": [
    "y = to_categorical(y)"
   ]
  },
  {
   "cell_type": "code",
   "execution_count": 15,
   "metadata": {},
   "outputs": [
    {
     "data": {
      "text/plain": [
       "(2705373, 9)"
      ]
     },
     "execution_count": 15,
     "metadata": {},
     "output_type": "execute_result"
    }
   ],
   "source": [
    "y.shape"
   ]
  },
  {
   "cell_type": "code",
   "execution_count": 6,
   "metadata": {},
   "outputs": [
    {
     "data": {
      "text/html": [
       "<div>\n",
       "<style scoped>\n",
       "    .dataframe tbody tr th:only-of-type {\n",
       "        vertical-align: middle;\n",
       "    }\n",
       "\n",
       "    .dataframe tbody tr th {\n",
       "        vertical-align: top;\n",
       "    }\n",
       "\n",
       "    .dataframe thead th {\n",
       "        text-align: right;\n",
       "    }\n",
       "</style>\n",
       "<table border=\"1\" class=\"dataframe\">\n",
       "  <thead>\n",
       "    <tr style=\"text-align: right;\">\n",
       "      <th></th>\n",
       "      <th>OP_CARRIER</th>\n",
       "      <th>OP_CARRIER_FL_NUM</th>\n",
       "      <th>CRS_DEP_TIME</th>\n",
       "      <th>ARR_DELAY</th>\n",
       "      <th>CRS_ARR_TIME</th>\n",
       "      <th>DIVERTED</th>\n",
       "      <th>CANCELLED</th>\n",
       "      <th>ORIG_AREA</th>\n",
       "      <th>DEST_AREA</th>\n",
       "      <th>ORIG_WEATHER</th>\n",
       "      <th>DEST_WEATHER</th>\n",
       "      <th>ARR_DELAY_CAT</th>\n",
       "      <th>DEP_DELAY_CAT</th>\n",
       "    </tr>\n",
       "  </thead>\n",
       "  <tbody>\n",
       "    <tr>\n",
       "      <th>0</th>\n",
       "      <td>9E</td>\n",
       "      <td>3819</td>\n",
       "      <td>1645</td>\n",
       "      <td>57.0</td>\n",
       "      <td>1813</td>\n",
       "      <td>0.0</td>\n",
       "      <td>0.0</td>\n",
       "      <td>SE</td>\n",
       "      <td>MSE</td>\n",
       "      <td>Snow</td>\n",
       "      <td>Snow</td>\n",
       "      <td>8</td>\n",
       "      <td>8</td>\n",
       "    </tr>\n",
       "    <tr>\n",
       "      <th>1</th>\n",
       "      <td>AA</td>\n",
       "      <td>1051</td>\n",
       "      <td>1255</td>\n",
       "      <td>28.0</td>\n",
       "      <td>1550</td>\n",
       "      <td>0.0</td>\n",
       "      <td>0.0</td>\n",
       "      <td>MNE</td>\n",
       "      <td>MSW</td>\n",
       "      <td>Snow</td>\n",
       "      <td>Snow</td>\n",
       "      <td>7</td>\n",
       "      <td>7</td>\n",
       "    </tr>\n",
       "    <tr>\n",
       "      <th>2</th>\n",
       "      <td>AA</td>\n",
       "      <td>1156</td>\n",
       "      <td>1645</td>\n",
       "      <td>25.0</td>\n",
       "      <td>2030</td>\n",
       "      <td>0.0</td>\n",
       "      <td>0.0</td>\n",
       "      <td>MNE</td>\n",
       "      <td>MSE</td>\n",
       "      <td>Rain</td>\n",
       "      <td>Rain</td>\n",
       "      <td>7</td>\n",
       "      <td>6</td>\n",
       "    </tr>\n",
       "    <tr>\n",
       "      <th>3</th>\n",
       "      <td>AA</td>\n",
       "      <td>1333</td>\n",
       "      <td>1605</td>\n",
       "      <td>-10.0</td>\n",
       "      <td>2010</td>\n",
       "      <td>0.0</td>\n",
       "      <td>0.0</td>\n",
       "      <td>MNE</td>\n",
       "      <td>MSE</td>\n",
       "      <td>Snow</td>\n",
       "      <td>Rain</td>\n",
       "      <td>4</td>\n",
       "      <td>4</td>\n",
       "    </tr>\n",
       "    <tr>\n",
       "      <th>4</th>\n",
       "      <td>AA</td>\n",
       "      <td>1735</td>\n",
       "      <td>735</td>\n",
       "      <td>-17.0</td>\n",
       "      <td>840</td>\n",
       "      <td>0.0</td>\n",
       "      <td>0.0</td>\n",
       "      <td>MSE</td>\n",
       "      <td>MSE</td>\n",
       "      <td>Snow</td>\n",
       "      <td>Rain</td>\n",
       "      <td>3</td>\n",
       "      <td>5</td>\n",
       "    </tr>\n",
       "  </tbody>\n",
       "</table>\n",
       "</div>"
      ],
      "text/plain": [
       "  OP_CARRIER  OP_CARRIER_FL_NUM  CRS_DEP_TIME  ARR_DELAY  CRS_ARR_TIME  \\\n",
       "0         9E               3819          1645       57.0          1813   \n",
       "1         AA               1051          1255       28.0          1550   \n",
       "2         AA               1156          1645       25.0          2030   \n",
       "3         AA               1333          1605      -10.0          2010   \n",
       "4         AA               1735           735      -17.0           840   \n",
       "\n",
       "   DIVERTED  CANCELLED ORIG_AREA DEST_AREA ORIG_WEATHER DEST_WEATHER  \\\n",
       "0       0.0        0.0        SE       MSE         Snow         Snow   \n",
       "1       0.0        0.0       MNE       MSW         Snow         Snow   \n",
       "2       0.0        0.0       MNE       MSE         Rain         Rain   \n",
       "3       0.0        0.0       MNE       MSE         Snow         Rain   \n",
       "4       0.0        0.0       MSE       MSE         Snow         Rain   \n",
       "\n",
       "   ARR_DELAY_CAT  DEP_DELAY_CAT  \n",
       "0              8              8  \n",
       "1              7              7  \n",
       "2              7              6  \n",
       "3              4              4  \n",
       "4              3              5  "
      ]
     },
     "execution_count": 6,
     "metadata": {},
     "output_type": "execute_result"
    }
   ],
   "source": [
    "dataset.head()"
   ]
  },
  {
   "cell_type": "markdown",
   "metadata": {},
   "source": [
    "##### Encoding Label"
   ]
  },
  {
   "cell_type": "code",
   "execution_count": 16,
   "metadata": {},
   "outputs": [],
   "source": [
    "# Encoding categorical data\n",
    "from sklearn.preprocessing import LabelEncoder, OneHotEncoder\n",
    "\n",
    "labelencoder_X_1 = LabelEncoder()\n",
    "# labelencoder_X_2 = LabelEncoder()\n",
    "# labelencoder_X_3 = LabelEncoder()\n",
    "# labelencoder_X_4 = LabelEncoder()\n",
    "# labelencoder_X_5 = LabelEncoder()\n",
    "# labelencoder_X_6 = LabelEncoder()\n",
    "labelencoder_X_7 = LabelEncoder()\n",
    "labelencoder_X_8 = LabelEncoder()\n",
    "labelencoder_X_9 = LabelEncoder()\n",
    "labelencoder_X_10 = LabelEncoder()\n",
    "# labelencoder_X_11 = LabelEncoder()\n",
    "\n",
    "\n",
    "X[:, 0] = labelencoder_X_1.fit_transform(X[:, 0])\n",
    "# X[:, 1] = labelencoder_X_2.fit_transform(X[:, 1])\n",
    "# X[:, 2] = labelencoder_X_3.fit_transform(X[:, 2])\n",
    "# X[:, 3] = labelencoder_X_4.fit_transform(X[:, 3])\n",
    "# X[:, 4] = labelencoder_X_5.fit_transform(X[:, 4])\n",
    "# X[:, 5] = labelencoder_X_6.fit_transform(X[:, 5])\n",
    "X[:, 7] = labelencoder_X_7.fit_transform(X[:, 7])\n",
    "X[:, 8] = labelencoder_X_8.fit_transform(X[:, 8])\n",
    "X[:, 9] = labelencoder_X_9.fit_transform(X[:, 9])\n",
    "X[:, 10] = labelencoder_X_10.fit_transform(X[:, 10])\n",
    "#X[:, 10] = labelencoder_X_11.fit_transform(X[:,10])\n",
    "\n",
    "\n",
    "# onehotencoder = OneHotEncoder()\n",
    "# X = onehotencoder.fit_transform(X).toarray()\n"
   ]
  },
  {
   "cell_type": "markdown",
   "metadata": {},
   "source": [
    "##### Train Test Split "
   ]
  },
  {
   "cell_type": "code",
   "execution_count": 17,
   "metadata": {},
   "outputs": [],
   "source": [
    "# Splitting the dataset into the Training set and Test set\n",
    "from sklearn.model_selection import train_test_split\n",
    "\n",
    "X_train, X_test, y_train, y_test = train_test_split(X, y, test_size=0.3, random_state=0)"
   ]
  },
  {
   "cell_type": "code",
   "execution_count": 18,
   "metadata": {},
   "outputs": [],
   "source": [
    "# Feature Scaling\n",
    "from sklearn.preprocessing import StandardScaler\n",
    "\n",
    "sc = StandardScaler()\n",
    "X_train = sc.fit_transform(X_train)\n",
    "X_test = sc.transform(X_test)"
   ]
  },
  {
   "cell_type": "code",
   "execution_count": 19,
   "metadata": {},
   "outputs": [
    {
     "data": {
      "text/plain": [
       "array([ 0.70160921, -0.66343661,  0.36745576,  0.29962521,  0.64700932,\n",
       "       -0.04747107, -0.1247082 , -1.38962349,  0.37634101,  0.45910194,\n",
       "        0.45947722,  1.15937109])"
      ]
     },
     "execution_count": 19,
     "metadata": {},
     "output_type": "execute_result"
    }
   ],
   "source": [
    "X_train[0]"
   ]
  },
  {
   "cell_type": "code",
   "execution_count": 20,
   "metadata": {},
   "outputs": [],
   "source": [
    "# Part 2 - Now let's make the ANN!\n",
    "\n",
    "# Importing the Keras libraries and packages\n",
    "from tensorflow.python.keras.models import Sequential\n",
    "from tensorflow.keras.layers import Dense\n",
    "from tensorflow.keras import backend\n",
    "from keras.layers import Dense, BatchNormalization\n"
   ]
  },
  {
   "cell_type": "markdown",
   "metadata": {},
   "source": [
    "##### Modelling ANN "
   ]
  },
  {
   "cell_type": "code",
   "execution_count": 21,
   "metadata": {},
   "outputs": [
    {
     "name": "stdout",
     "output_type": "stream",
     "text": [
      "Epoch 1/50\n",
      "5918/5918 [==============================] - 19s 3ms/step - loss: 0.8914 - accuracy: 0.6347 - val_loss: 0.8634 - val_accuracy: 0.6413\n",
      "Epoch 2/50\n",
      "5918/5918 [==============================] - 19s 3ms/step - loss: 0.8562 - accuracy: 0.6445 - val_loss: 0.8540 - val_accuracy: 0.6459\n",
      "Epoch 3/50\n",
      "5918/5918 [==============================] - 19s 3ms/step - loss: 0.8482 - accuracy: 0.6474 - val_loss: 0.8439 - val_accuracy: 0.6491\n",
      "Epoch 4/50\n",
      "5918/5918 [==============================] - 16s 3ms/step - loss: 0.8440 - accuracy: 0.6485 - val_loss: 0.8413 - val_accuracy: 0.6489\n",
      "Epoch 5/50\n",
      "5918/5918 [==============================] - 17s 3ms/step - loss: 0.8413 - accuracy: 0.6497 - val_loss: 0.8414 - val_accuracy: 0.6501\n",
      "Epoch 6/50\n",
      "5918/5918 [==============================] - 17s 3ms/step - loss: 0.8391 - accuracy: 0.6505 - val_loss: 0.8369 - val_accuracy: 0.6514\n",
      "Epoch 7/50\n",
      "5918/5918 [==============================] - 18s 3ms/step - loss: 0.8374 - accuracy: 0.6512 - val_loss: 0.8364 - val_accuracy: 0.6509\n",
      "Epoch 8/50\n",
      "5918/5918 [==============================] - 19s 3ms/step - loss: 0.8361 - accuracy: 0.6513 - val_loss: 0.8364 - val_accuracy: 0.6507\n",
      "Epoch 9/50\n",
      "5918/5918 [==============================] - 20s 3ms/step - loss: 0.8348 - accuracy: 0.6519 - val_loss: 0.8341 - val_accuracy: 0.6519\n",
      "Epoch 10/50\n",
      "5918/5918 [==============================] - 19s 3ms/step - loss: 0.8337 - accuracy: 0.6523 - val_loss: 0.8337 - val_accuracy: 0.6525\n",
      "Epoch 11/50\n",
      "5918/5918 [==============================] - 19s 3ms/step - loss: 0.8328 - accuracy: 0.6525 - val_loss: 0.8349 - val_accuracy: 0.6520\n",
      "Epoch 12/50\n",
      "5918/5918 [==============================] - 20s 3ms/step - loss: 0.8319 - accuracy: 0.6530 - val_loss: 0.8322 - val_accuracy: 0.6532\n",
      "Epoch 13/50\n",
      "5918/5918 [==============================] - 20s 3ms/step - loss: 0.8312 - accuracy: 0.6531 - val_loss: 0.8327 - val_accuracy: 0.6529\n",
      "Epoch 14/50\n",
      "5918/5918 [==============================] - 20s 3ms/step - loss: 0.8306 - accuracy: 0.6532 - val_loss: 0.8318 - val_accuracy: 0.6530\n",
      "Epoch 15/50\n",
      "5918/5918 [==============================] - 19s 3ms/step - loss: 0.8300 - accuracy: 0.6536 - val_loss: 0.8329 - val_accuracy: 0.6531\n",
      "Epoch 16/50\n",
      "5918/5918 [==============================] - 20s 3ms/step - loss: 0.8294 - accuracy: 0.6538 - val_loss: 0.8327 - val_accuracy: 0.6532\n",
      "Epoch 17/50\n",
      "5918/5918 [==============================] - 20s 3ms/step - loss: 0.8288 - accuracy: 0.6540 - val_loss: 0.8309 - val_accuracy: 0.6539\n",
      "Epoch 18/50\n",
      "5918/5918 [==============================] - 20s 3ms/step - loss: 0.8285 - accuracy: 0.6542 - val_loss: 0.8310 - val_accuracy: 0.6536\n",
      "Epoch 19/50\n",
      "5918/5918 [==============================] - 20s 3ms/step - loss: 0.8280 - accuracy: 0.6545 - val_loss: 0.8315 - val_accuracy: 0.6540\n",
      "Epoch 20/50\n",
      "5918/5918 [==============================] - 19s 3ms/step - loss: 0.8276 - accuracy: 0.6545 - val_loss: 0.8315 - val_accuracy: 0.6536\n",
      "Epoch 21/50\n",
      "5918/5918 [==============================] - 20s 3ms/step - loss: 0.8271 - accuracy: 0.6548 - val_loss: 0.8313 - val_accuracy: 0.6530\n",
      "Epoch 22/50\n",
      "5918/5918 [==============================] - 16s 3ms/step - loss: 0.8268 - accuracy: 0.6548 - val_loss: 0.8307 - val_accuracy: 0.6541\n",
      "Epoch 23/50\n",
      "5918/5918 [==============================] - 17s 3ms/step - loss: 0.8264 - accuracy: 0.6551 - val_loss: 0.8302 - val_accuracy: 0.6541\n",
      "Epoch 24/50\n",
      "5918/5918 [==============================] - 17s 3ms/step - loss: 0.8261 - accuracy: 0.6552 - val_loss: 0.8293 - val_accuracy: 0.6542\n",
      "Epoch 25/50\n",
      "5918/5918 [==============================] - 17s 3ms/step - loss: 0.8258 - accuracy: 0.6554 - val_loss: 0.8285 - val_accuracy: 0.6543\n",
      "Epoch 26/50\n",
      "5918/5918 [==============================] - 18s 3ms/step - loss: 0.8254 - accuracy: 0.6556 - val_loss: 0.8298 - val_accuracy: 0.6538\n",
      "Epoch 27/50\n",
      "5918/5918 [==============================] - 19s 3ms/step - loss: 0.8252 - accuracy: 0.6557 - val_loss: 0.8289 - val_accuracy: 0.6552\n",
      "Epoch 28/50\n",
      "5918/5918 [==============================] - 29s 5ms/step - loss: 0.8249 - accuracy: 0.6555 - val_loss: 0.8289 - val_accuracy: 0.6552\n",
      "Epoch 29/50\n",
      "5918/5918 [==============================] - 37s 6ms/step - loss: 0.8247 - accuracy: 0.6557 - val_loss: 0.8293 - val_accuracy: 0.6547\n",
      "Epoch 30/50\n",
      "5918/5918 [==============================] - 19s 3ms/step - loss: 0.8243 - accuracy: 0.6558 - val_loss: 0.8287 - val_accuracy: 0.6544\n",
      "Epoch 31/50\n",
      "5918/5918 [==============================] - 20s 3ms/step - loss: 0.8241 - accuracy: 0.6560 - val_loss: 0.8281 - val_accuracy: 0.6553\n",
      "Epoch 32/50\n",
      "5918/5918 [==============================] - 19s 3ms/step - loss: 0.8239 - accuracy: 0.6560 - val_loss: 0.8324 - val_accuracy: 0.6538\n",
      "Epoch 33/50\n",
      "5918/5918 [==============================] - 25s 4ms/step - loss: 0.8236 - accuracy: 0.6563 - val_loss: 0.8275 - val_accuracy: 0.6553\n",
      "Epoch 34/50\n",
      "5918/5918 [==============================] - 36s 6ms/step - loss: 0.8234 - accuracy: 0.6563 - val_loss: 0.8295 - val_accuracy: 0.6539\n",
      "Epoch 35/50\n",
      "5918/5918 [==============================] - 33s 5ms/step - loss: 0.8232 - accuracy: 0.6564 - val_loss: 0.8295 - val_accuracy: 0.6548\n",
      "Epoch 36/50\n",
      "5918/5918 [==============================] - 18s 3ms/step - loss: 0.8231 - accuracy: 0.6565 - val_loss: 0.8271 - val_accuracy: 0.6561\n",
      "Epoch 37/50\n",
      "5918/5918 [==============================] - 18s 3ms/step - loss: 0.8229 - accuracy: 0.6565 - val_loss: 0.8275 - val_accuracy: 0.6557\n",
      "Epoch 38/50\n",
      "5918/5918 [==============================] - 18s 3ms/step - loss: 0.8226 - accuracy: 0.6566 - val_loss: 0.8275 - val_accuracy: 0.6553\n",
      "Epoch 39/50\n",
      "5918/5918 [==============================] - 19s 3ms/step - loss: 0.8225 - accuracy: 0.6568 - val_loss: 0.8295 - val_accuracy: 0.6544\n",
      "Epoch 40/50\n",
      "5918/5918 [==============================] - 22s 4ms/step - loss: 0.8225 - accuracy: 0.6566 - val_loss: 0.8274 - val_accuracy: 0.6555\n",
      "Epoch 41/50\n",
      "5918/5918 [==============================] - 23s 4ms/step - loss: 0.8221 - accuracy: 0.6567 - val_loss: 0.8271 - val_accuracy: 0.6557\n",
      "Epoch 42/50\n",
      "5918/5918 [==============================] - 15s 3ms/step - loss: 0.8219 - accuracy: 0.6568 - val_loss: 0.8269 - val_accuracy: 0.6558\n",
      "Epoch 43/50\n",
      "5918/5918 [==============================] - 16s 3ms/step - loss: 0.8219 - accuracy: 0.6569 - val_loss: 0.8268 - val_accuracy: 0.6556\n",
      "Epoch 44/50\n",
      "5918/5918 [==============================] - 16s 3ms/step - loss: 0.8216 - accuracy: 0.6569 - val_loss: 0.8268 - val_accuracy: 0.6556\n",
      "Epoch 45/50\n",
      "5918/5918 [==============================] - 16s 3ms/step - loss: 0.8215 - accuracy: 0.6570 - val_loss: 0.8272 - val_accuracy: 0.6556\n",
      "Epoch 46/50\n",
      "5918/5918 [==============================] - 16s 3ms/step - loss: 0.8214 - accuracy: 0.6570 - val_loss: 0.8272 - val_accuracy: 0.6552\n",
      "Epoch 47/50\n",
      "5918/5918 [==============================] - 17s 3ms/step - loss: 0.8212 - accuracy: 0.6571 - val_loss: 0.8282 - val_accuracy: 0.6545\n",
      "Epoch 48/50\n",
      "5918/5918 [==============================] - 16s 3ms/step - loss: 0.8210 - accuracy: 0.6573 - val_loss: 0.8270 - val_accuracy: 0.6560\n",
      "Epoch 49/50\n",
      "5918/5918 [==============================] - 16s 3ms/step - loss: 0.8209 - accuracy: 0.6574 - val_loss: 0.8282 - val_accuracy: 0.6545\n",
      "Epoch 50/50\n",
      "5918/5918 [==============================] - 17s 3ms/step - loss: 0.8207 - accuracy: 0.6574 - val_loss: 0.8277 - val_accuracy: 0.6553\n"
     ]
    },
    {
     "data": {
      "text/plain": [
       "<tensorflow.python.keras.callbacks.History at 0x7f5b9a585a60>"
      ]
     },
     "execution_count": 21,
     "metadata": {},
     "output_type": "execute_result"
    }
   ],
   "source": [
    "# Initialising the ANN\n",
    "classifier = Sequential()\n",
    "\n",
    "# Adding the input layer and the first hidden layer\n",
    "classifier.add(Dense(units=32, activation='relu', input_dim=(13,)))\n",
    "\n",
    "# Adding the second hidden layer\n",
    "classifier.add(Dense(units=64, activation='relu'))\n",
    "\n",
    "# Adding the second hidden layer\n",
    "classifier.add(Dense(units=128, activation='relu'))\n",
    "\n",
    "# Adding the second hidden layer\n",
    "classifier.add(Dense(units=64, activation='relu'))\n",
    "\n",
    "# Adding the second hidden layer\n",
    "classifier.add(Dense(units=32, activation='relu'))\n",
    "\n",
    "# Adding the output layer\n",
    "classifier.add(Dense(units=9, activation='softmax'))\n",
    "\n",
    "# Compiling the ANN\n",
    "classifier.compile(optimizer='adam', loss='categorical_crossentropy', metrics=['accuracy'])\n",
    "\n",
    "# Fitting the ANN to the Training set\n",
    "classifier.fit(X_train, y_train, batch_size=256, epochs=50, validation_split=0.2)\n"
   ]
  },
  {
   "cell_type": "code",
   "execution_count": 23,
   "metadata": {},
   "outputs": [],
   "source": [
    "classifier.save_weights('./checkpoints/weights')\n"
   ]
  },
  {
   "cell_type": "code",
   "execution_count": 23,
   "metadata": {},
   "outputs": [
    {
     "data": {
      "text/html": [
       "<style>pre { white-space: pre !important; }</style>"
      ],
      "text/plain": [
       "<IPython.core.display.HTML object>"
      ]
     },
     "metadata": {},
     "output_type": "display_data"
    }
   ],
   "source": [
    "from IPython.display import display, HTML\n",
    "display(HTML(\"<style>pre { white-space: pre !important; }</style>\"))\n"
   ]
  },
  {
   "cell_type": "code",
   "execution_count": 26,
   "metadata": {},
   "outputs": [],
   "source": [
    "acc = classifier.history.history['accuracy']\n",
    "val_acc = classifier.history.history['val_accuracy']\n",
    "loss = classifier.history.history['loss']\n",
    "val_loss = classifier.history.history['val_loss']\n",
    "epochs_range = range(50)"
   ]
  },
  {
   "cell_type": "code",
   "execution_count": 27,
   "metadata": {},
   "outputs": [
    {
     "data": {
      "image/png": "[encoded data removed]",
      "text/plain": [
       "<Figure size 576x576 with 2 Axes>"
      ]
     },
     "metadata": {
      "needs_background": "light"
     },
     "output_type": "display_data"
    }
   ],
   "source": [
    "import matplotlib.pyplot as plt\n",
    "\n",
    "plt.figure(figsize=(8, 8))\n",
    "plt.subplot(1, 2, 1)\n",
    "plt.plot(epochs_range, acc, label='Training Accuracy')\n",
    "plt.plot(epochs_range, val_acc, label='Validation Accuracy')\n",
    "plt.legend(loc='lower right')\n",
    "plt.title('Training and Validation Accuracy')\n",
    "\n",
    "plt.subplot(1, 2, 2)\n",
    "plt.plot(epochs_range, loss, label='Training Loss')\n",
    "plt.plot(epochs_range, val_loss, label='Validation Loss')\n",
    "plt.legend(loc='upper right')\n",
    "plt.title('Training and Validation Loss')\n",
    "plt.suptitle('Model 2 results-Best NN model')\n",
    "plt.show()\n"
   ]
  },
  {
   "cell_type": "code",
   "execution_count": null,
   "metadata": {},
   "outputs": [],
   "source": []
  }
 ],
 "metadata": {
  "kernelspec": {
   "display_name": "Python 3",
   "language": "python",
   "name": "python3"
  },
  "language_info": {
   "codemirror_mode": {
    "name": "ipython",
    "version": 3
   },
   "file_extension": ".py",
   "mimetype": "text/x-python",
   "name": "python",
   "nbconvert_exporter": "python",
   "pygments_lexer": "ipython3",
   "version": "3.9.5"
  },
  "vscode": {
   "interpreter": {
    "hash": "31f2aee4e71d21fbe5cf8b01ff0e069b9275f58929596ceb00d14d90e3e16cd6"
   }
  }
 },
 "nbformat": 4,
 "nbformat_minor": 4
}
