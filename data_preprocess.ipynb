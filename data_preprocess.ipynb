{
 "cells": [
  {
   "cell_type": "code",
   "execution_count": 2,
   "metadata": {},
   "outputs": [],
   "source": [
    "import sys,os,re\n",
    "import glob\n",
    "import pandas as pd\n",
    "from pyspark import SparkContext\n",
    "from pyspark.sql import SparkSession\n",
    "from pyspark.sql.functions import *"
   ]
  },
  {
   "cell_type": "markdown",
   "metadata": {},
   "source": [
    "Create or get a PySpark Instance"
   ]
  },
  {
   "cell_type": "code",
   "execution_count": 3,
   "metadata": {},
   "outputs": [
    {
     "name": "stdout",
     "output_type": "stream",
     "text": [
      "22/11/03 19:44:27 WARN Utils: Your hostname, LinuxGUI resolves to a loopback address: 127.0.1.1; using 192.168.0.103 instead (on interface eno1)\n",
      "22/11/03 19:44:27 WARN Utils: Set SPARK_LOCAL_IP if you need to bind to another address\n"
     ]
    },
    {
     "name": "stderr",
     "output_type": "stream",
     "text": [
      "Setting default log level to \"WARN\".\n",
      "To adjust logging level use sc.setLogLevel(newLevel). For SparkR, use setLogLevel(newLevel).\n"
     ]
    },
    {
     "name": "stdout",
     "output_type": "stream",
     "text": [
      "22/11/03 19:44:27 WARN NativeCodeLoader: Unable to load native-hadoop library for your platform... using builtin-java classes where applicable\n",
      "22/11/03 19:44:28 WARN Utils: Service 'SparkUI' could not bind on port 4040. Attempting port 4041.\n"
     ]
    }
   ],
   "source": [
    "spark = SparkSession \\\n",
    "        .builder \\\n",
    "        .master(\"local[*]\") \\\n",
    "        .config(\"spark.executor.memory\", \"70g\") \\\n",
    "        .config(\"spark.driver.memory\", \"50g\") \\\n",
    "        .config(\"spark.memory.offHeap.enabled\",True) \\\n",
    "        .config(\"spark.memory.offHeap.size\",\"16g\") \\\n",
    "        .appName(\"Airline\") \\\n",
    "        .getOrCreate()"
   ]
  },
  {
   "cell_type": "markdown",
   "metadata": {},
   "source": [
    "Read flights, airports, and weather stations data."
   ]
  },
  {
   "cell_type": "code",
   "execution_count": 5,
   "metadata": {},
   "outputs": [],
   "source": [
    "# All flights dataset\n",
    "flights_df = spark.read.option(\"header\",True).csv('./data/flights/')\n",
    "# GHCND stations information\n",
    "stations_df = spark.read.option(\"header\",False).csv('./data/ghcnd-stations_clean.csv')\n",
    "# United States airport information\n",
    "airports_df = spark.read.option(\"header\",True).csv('./data/us-airports_clean.csv')\n",
    "\n",
    "# Create tables for these dataframe in order to query\n",
    "flights_df.createOrReplaceTempView(\"Flights\")\n",
    "stations_df.createOrReplaceTempView(\"Stations\")\n",
    "airports_df.createOrReplaceTempView(\"Airports\")"
   ]
  },
  {
   "cell_type": "markdown",
   "metadata": {},
   "source": [
    "Check all ORIGIN and DEST column in dataset, pick airport codes that appeared in dataset."
   ]
  },
  {
   "cell_type": "code",
   "execution_count": 6,
   "metadata": {},
   "outputs": [],
   "source": [
    "apCode_df = spark.sql(\"SELECT DISTINCT ORIGIN FROM Flights \\\n",
    "                        UNION \\\n",
    "                        SELECT DISTINCT DEST FROM Flights\")\n",
    "apCode_df.createOrReplaceTempView(\"Airport_Code\")"
   ]
  },
  {
   "cell_type": "markdown",
   "metadata": {},
   "source": [
    "Append full airport information with airport codes appeared in airline delay and cancellation dataset"
   ]
  },
  {
   "cell_type": "code",
   "execution_count": 11,
   "metadata": {},
   "outputs": [
    {
     "name": "stderr",
     "output_type": "stream",
     "text": [
      "                                                                                \r"
     ]
    }
   ],
   "source": [
    "# (ORIGIN, STATE, CITY, AP LOCAL_CODE, AP IATA_CODE, AP IDENT_CODE, AP NAME)\n",
    "airport_full_df = spark.sql(\" \\\n",
    "        SELECT c.ORIGIN, \\\n",
    "            p.local_region AS STATE, \\\n",
    "            p.municipality AS CITY, \\\n",
    "            p.local_code AS LOCAL, \\\n",
    "            p.iata_code AS IATA, \\\n",
    "            p.ident AS IDENT, \\\n",
    "            p.name AS NAME \\\n",
    "        FROM Airport_Code AS c \\\n",
    "        LEFT JOIN Airports AS p ON \\\n",
    "        (c.ORIGIN = p.local_code OR c.ORIGIN = p.iata_code)\" \\\n",
    "    )\n",
    "    \n",
    "airport_full_df.write.option(\"header\",True).csv('./output/airports_full')\n",
    "airport_full_df.createOrReplaceTempView(\"Airport_Full\")"
   ]
  },
  {
   "cell_type": "markdown",
   "metadata": {},
   "source": [
    "*Use Regex Matching to filter out weather stations located in airports. \"rlike\" keywords"
   ]
  },
  {
   "cell_type": "code",
   "execution_count": 10,
   "metadata": {},
   "outputs": [
    {
     "ename": "AnalysisException",
     "evalue": "path file:/home/ax/Develop/CS543/Project1/output/ap_station already exists.",
     "output_type": "error",
     "traceback": [
      "\u001b[0;31m---------------------------------------------------------------------------\u001b[0m",
      "\u001b[0;31mAnalysisException\u001b[0m                         Traceback (most recent call last)",
      "Cell \u001b[0;32mIn [10], line 6\u001b[0m\n\u001b[1;32m      1\u001b[0m ap_stations \u001b[39m=\u001b[39m stations_df\u001b[39m.\u001b[39mfilter( \\\n\u001b[1;32m      2\u001b[0m     lower(col(\u001b[39m'\u001b[39m\u001b[39m_c2\u001b[39m\u001b[39m'\u001b[39m))\u001b[39m.\u001b[39mlike(\u001b[39m'\u001b[39m\u001b[39m% a\u001b[39;00m\u001b[39mp\u001b[39m\u001b[39m%\u001b[39m\u001b[39m'\u001b[39m) \u001b[39m|\u001b[39m \\\n\u001b[1;32m      3\u001b[0m     lower(col(\u001b[39m'\u001b[39m\u001b[39m_c2\u001b[39m\u001b[39m'\u001b[39m))\u001b[39m.\u001b[39mlike(\u001b[39m'\u001b[39m\u001b[39m% a\u001b[39;00m\u001b[39mirport\u001b[39m\u001b[39m%\u001b[39m\u001b[39m'\u001b[39m)) \\\n\u001b[1;32m      5\u001b[0m ap_stations\u001b[39m.\u001b[39mcreateOrReplaceTempView(\u001b[39m\"\u001b[39m\u001b[39mAPTABLE\u001b[39m\u001b[39m\"\u001b[39m)\n\u001b[0;32m----> 6\u001b[0m ap_stations\u001b[39m.\u001b[39;49mwrite\u001b[39m.\u001b[39;49mcsv(\u001b[39m'\u001b[39;49m\u001b[39m./output/ap_station\u001b[39;49m\u001b[39m'\u001b[39;49m)\n\u001b[1;32m      8\u001b[0m sqlStr \u001b[39m=\u001b[39m \u001b[39m\"\u001b[39m\u001b[39mSELECT * FROM APTABLE AS t \u001b[39m\u001b[39m\\\u001b[39;00m\n\u001b[1;32m      9\u001b[0m \u001b[39m        LEFT JOIN FULL_AP AS p ON \u001b[39m\u001b[39m\\\u001b[39;00m\n\u001b[1;32m     10\u001b[0m \u001b[39m        t._c2 LIKE CONCAT(\u001b[39m\u001b[39m'\u001b[39m\u001b[39m%\u001b[39m\u001b[39m'\u001b[39m\u001b[39m, p.column ,\u001b[39m\u001b[39m'\u001b[39m\u001b[39m%\u001b[39m\u001b[39m'\u001b[39m\u001b[39m) \u001b[39m\u001b[39m\"\u001b[39m\n",
      "File \u001b[0;32m~/Develop/CS543/Project1/cs543_proj_1/lib/python3.10/site-packages/pyspark/sql/readwriter.py:1240\u001b[0m, in \u001b[0;36mDataFrameWriter.csv\u001b[0;34m(self, path, mode, compression, sep, quote, escape, header, nullValue, escapeQuotes, quoteAll, dateFormat, timestampFormat, ignoreLeadingWhiteSpace, ignoreTrailingWhiteSpace, charToEscapeQuoteEscaping, encoding, emptyValue, lineSep)\u001b[0m\n\u001b[1;32m   1221\u001b[0m \u001b[39mself\u001b[39m\u001b[39m.\u001b[39mmode(mode)\n\u001b[1;32m   1222\u001b[0m \u001b[39mself\u001b[39m\u001b[39m.\u001b[39m_set_opts(\n\u001b[1;32m   1223\u001b[0m     compression\u001b[39m=\u001b[39mcompression,\n\u001b[1;32m   1224\u001b[0m     sep\u001b[39m=\u001b[39msep,\n\u001b[0;32m   (...)\u001b[0m\n\u001b[1;32m   1238\u001b[0m     lineSep\u001b[39m=\u001b[39mlineSep,\n\u001b[1;32m   1239\u001b[0m )\n\u001b[0;32m-> 1240\u001b[0m \u001b[39mself\u001b[39;49m\u001b[39m.\u001b[39;49m_jwrite\u001b[39m.\u001b[39;49mcsv(path)\n",
      "File \u001b[0;32m~/Develop/CS543/Project1/cs543_proj_1/lib/python3.10/site-packages/py4j/java_gateway.py:1321\u001b[0m, in \u001b[0;36mJavaMember.__call__\u001b[0;34m(self, *args)\u001b[0m\n\u001b[1;32m   1315\u001b[0m command \u001b[39m=\u001b[39m proto\u001b[39m.\u001b[39mCALL_COMMAND_NAME \u001b[39m+\u001b[39m\\\n\u001b[1;32m   1316\u001b[0m     \u001b[39mself\u001b[39m\u001b[39m.\u001b[39mcommand_header \u001b[39m+\u001b[39m\\\n\u001b[1;32m   1317\u001b[0m     args_command \u001b[39m+\u001b[39m\\\n\u001b[1;32m   1318\u001b[0m     proto\u001b[39m.\u001b[39mEND_COMMAND_PART\n\u001b[1;32m   1320\u001b[0m answer \u001b[39m=\u001b[39m \u001b[39mself\u001b[39m\u001b[39m.\u001b[39mgateway_client\u001b[39m.\u001b[39msend_command(command)\n\u001b[0;32m-> 1321\u001b[0m return_value \u001b[39m=\u001b[39m get_return_value(\n\u001b[1;32m   1322\u001b[0m     answer, \u001b[39mself\u001b[39;49m\u001b[39m.\u001b[39;49mgateway_client, \u001b[39mself\u001b[39;49m\u001b[39m.\u001b[39;49mtarget_id, \u001b[39mself\u001b[39;49m\u001b[39m.\u001b[39;49mname)\n\u001b[1;32m   1324\u001b[0m \u001b[39mfor\u001b[39;00m temp_arg \u001b[39min\u001b[39;00m temp_args:\n\u001b[1;32m   1325\u001b[0m     temp_arg\u001b[39m.\u001b[39m_detach()\n",
      "File \u001b[0;32m~/Develop/CS543/Project1/cs543_proj_1/lib/python3.10/site-packages/pyspark/sql/utils.py:196\u001b[0m, in \u001b[0;36mcapture_sql_exception.<locals>.deco\u001b[0;34m(*a, **kw)\u001b[0m\n\u001b[1;32m    192\u001b[0m converted \u001b[39m=\u001b[39m convert_exception(e\u001b[39m.\u001b[39mjava_exception)\n\u001b[1;32m    193\u001b[0m \u001b[39mif\u001b[39;00m \u001b[39mnot\u001b[39;00m \u001b[39misinstance\u001b[39m(converted, UnknownException):\n\u001b[1;32m    194\u001b[0m     \u001b[39m# Hide where the exception came from that shows a non-Pythonic\u001b[39;00m\n\u001b[1;32m    195\u001b[0m     \u001b[39m# JVM exception message.\u001b[39;00m\n\u001b[0;32m--> 196\u001b[0m     \u001b[39mraise\u001b[39;00m converted \u001b[39mfrom\u001b[39;00m \u001b[39mNone\u001b[39m\n\u001b[1;32m    197\u001b[0m \u001b[39melse\u001b[39;00m:\n\u001b[1;32m    198\u001b[0m     \u001b[39mraise\u001b[39;00m\n",
      "\u001b[0;31mAnalysisException\u001b[0m: path file:/home/ax/Develop/CS543/Project1/output/ap_station already exists."
     ]
    }
   ],
   "source": [
    "ap_stations = stations_df.filter( \\\n",
    "    lower(col('_c2')).like('% ap%') | \\\n",
    "    lower(col('_c2')).like('% airport%')) \\\n",
    "\n",
    "ap_stations.createOrReplaceTempView(\"APTABLE\")\n",
    "ap_stations.write.csv('./output/ap_station')\n",
    "\n",
    "sqlStr = \"SELECT * FROM APTABLE AS t \\\n",
    "        LEFT JOIN FULL_AP AS p ON \\\n",
    "        t._c2 LIKE CONCAT('%', p.column ,'%') \""
   ]
  },
  {
   "cell_type": "code",
   "execution_count": null,
   "metadata": {},
   "outputs": [],
   "source": [
    "# Version2: Output AirportID,AirportName into ./output/airports.csv\n",
    "spark.sql(\" \\\n",
    "        SELECT i.ORIGIN, p.name \\\n",
    "        FROM AIRPORTID i \\\n",
    "        LEFT JOIN \\\n",
    "        AIRPORTS p ON i.ORIGIN = ( \\\n",
    "        CASE WHEN (p.iata_code IS NOT NULL) THEN (p.iata_code) \\\n",
    "        ELSE (p.local_code) END) \\\n",
    "        WHERE p.iso_country = 'US'\" \\\n",
    "    ) \\\n",
    "    .sort(\"ORIGIN\") \\\n",
    "    .write.options(heade=True, delimiter=',') \\\n",
    "    .csv(\"./output/airports\")"
   ]
  },
  {
   "cell_type": "code",
   "execution_count": null,
   "metadata": {},
   "outputs": [],
   "source": [
    "# load stations info\n",
    "apIdNameDF = spark.read.option(\"header\",False).csv('./data/apIdName.csv')\n",
    "apIdNames = apIdNameDF.collect()\n",
    "\n",
    "name_seg = set()\n",
    "for s in apIdNames:\n",
    "    for i in str(s[1]).split():\n",
    "        if i.isalpha():\n",
    "            name_seg.add(i)\n",
    "\n",
    "tl = list(name_seg)\n",
    "tl.sort()\n",
    "print(tl)"
   ]
  },
  {
   "cell_type": "code",
   "execution_count": null,
   "metadata": {},
   "outputs": [],
   "source": [
    "ghcndDF = spark.read.option(\"header\",False).csv('./data/ghcnd-stations_clean.csv')\n",
    "potentials = ghcndDF.filter( \\\n",
    "    lower(col('_c2')).like('% ap%') | \\\n",
    "    lower(col('_c2')).like('% airport%')).write.csv('test.csv')"
   ]
  },
  {
   "cell_type": "markdown",
   "metadata": {},
   "source": [
    "Load preprocessed airport-station dataset and GHCND weather data"
   ]
  },
  {
   "cell_type": "code",
   "execution_count": 4,
   "metadata": {},
   "outputs": [],
   "source": [
    "full_airport_station =  spark.read.option(\"header\",True).csv('./data/airports_stations.csv')\n",
    "ghcnd_stations = spark.read.option(\"header\",False).csv('./data/ghcnd_by_year/')"
   ]
  },
  {
   "cell_type": "code",
   "execution_count": null,
   "metadata": {},
   "outputs": [],
   "source": [
    "print(full_airport_station.head())\n",
    "print(ghcnd_stations.head())"
   ]
  },
  {
   "cell_type": "markdown",
   "metadata": {},
   "source": [
    "Assign each existing airport codes into weather data value and filter out weather data that not relate to our dataset."
   ]
  },
  {
   "cell_type": "code",
   "execution_count": null,
   "metadata": {},
   "outputs": [],
   "source": [
    "selected_airport_station = full_airport_station.select(col('ORIGIN'),col('STATION'))\n",
    "ghcnd_stations_clean = ghcnd_stations.join( \\\n",
    "                                            selected_airport_station, \\\n",
    "                                            ghcnd_stations._c0 == selected_airport_station.STATION, \\\n",
    "                                            \"LeftOuter\" \\\n",
    "                                        )"
   ]
  },
  {
   "cell_type": "code",
   "execution_count": null,
   "metadata": {},
   "outputs": [],
   "source": [
    "# Keep not null rows and rename them based on GHCND documents\n",
    "weatherData_df = ghcnd_stations_clean \\\n",
    "                .filter(ghcnd_stations_clean.ORIGIN.isNotNull()) \\\n",
    "                .select(col('_c0').alias(\"STATION_ID\"), \\\n",
    "                        col('ORIGIN').alias(\"AIRPORT_CODE\"), \\\n",
    "                        col('_c1').alias(\"DATE\"), \\\n",
    "                        col('_c2').alias(\"ELEMENT\"), \\\n",
    "                        col('_c3').alias(\"DATA_VALUE\"), \\\n",
    "                        col('_c4').alias(\"M_FLAG\"), \\\n",
    "                        col('_c5').alias(\"Q_FLAG\"), \\\n",
    "                        col('_c6').alias(\"S_FLAG\"), \\\n",
    "                        col('_c7').alias(\"OBS_TIME\"))"
   ]
  },
  {
   "cell_type": "markdown",
   "metadata": {},
   "source": [
    "Ouput filtered weather dataset"
   ]
  },
  {
   "cell_type": "code",
   "execution_count": null,
   "metadata": {},
   "outputs": [],
   "source": [
    "weatherData_df.write.option(\"header\",True).csv(\"./output/filtered_weatherData\")"
   ]
  }
 ],
 "metadata": {
  "kernelspec": {
   "display_name": "Python 3.10.6 ('cs543_proj_1': venv)",
   "language": "python",
   "name": "python3"
  },
  "language_info": {
   "codemirror_mode": {
    "name": "ipython",
    "version": 3
   },
   "file_extension": ".py",
   "mimetype": "text/x-python",
   "name": "python",
   "nbconvert_exporter": "python",
   "pygments_lexer": "ipython3",
   "version": "3.10.6"
  },
  "orig_nbformat": 4,
  "vscode": {
   "interpreter": {
    "hash": "cde981a51954932d95cd0d2db88350bc6a3d7387d257ee815a180cd40a004a1b"
   }
  }
 },
 "nbformat": 4,
 "nbformat_minor": 2
}
