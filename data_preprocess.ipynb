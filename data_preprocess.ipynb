{
 "cells": [
  {
   "cell_type": "code",
   "execution_count": 1,
   "metadata": {},
   "outputs": [],
   "source": [
    "import sys,os,re\n",
    "import glob\n",
    "import pandas as pd\n",
    "from pyspark import SparkContext\n",
    "from pyspark.sql import SparkSession\n",
    "from pyspark.sql.functions import *"
   ]
  },
  {
   "cell_type": "markdown",
   "metadata": {},
   "source": [
    "Create or get a PySpark Instance"
   ]
  },
  {
   "cell_type": "code",
   "execution_count": 2,
   "metadata": {},
   "outputs": [
    {
     "name": "stdout",
     "output_type": "stream",
     "text": [
      "22/11/03 22:31:42 WARN Utils: Your hostname, LinuxGUI resolves to a loopback address: 127.0.1.1; using 192.168.0.103 instead (on interface eno1)\n",
      "22/11/03 22:31:42 WARN Utils: Set SPARK_LOCAL_IP if you need to bind to another address\n"
     ]
    },
    {
     "name": "stderr",
     "output_type": "stream",
     "text": [
      "Setting default log level to \"WARN\".\n",
      "To adjust logging level use sc.setLogLevel(newLevel). For SparkR, use setLogLevel(newLevel).\n"
     ]
    },
    {
     "name": "stdout",
     "output_type": "stream",
     "text": [
      "22/11/03 22:31:42 WARN NativeCodeLoader: Unable to load native-hadoop library for your platform... using builtin-java classes where applicable\n"
     ]
    }
   ],
   "source": [
    "spark = SparkSession \\\n",
    "        .builder \\\n",
    "        .master(\"local[*]\") \\\n",
    "        .config(\"spark.executor.memory\", \"70g\") \\\n",
    "        .config(\"spark.driver.memory\", \"50g\") \\\n",
    "        .config(\"spark.memory.offHeap.enabled\",True) \\\n",
    "        .config(\"spark.memory.offHeap.size\",\"16g\") \\\n",
    "        .appName(\"Airline\") \\\n",
    "        .getOrCreate()"
   ]
  },
  {
   "cell_type": "markdown",
   "metadata": {},
   "source": [
    "Read flights, airports, and weather stations data."
   ]
  },
  {
   "cell_type": "code",
   "execution_count": 3,
   "metadata": {},
   "outputs": [
    {
     "name": "stdout",
     "output_type": "stream",
     "text": [
      "22/11/03 22:31:50 WARN package: Truncated the string representation of a plan since it was too large. This behavior can be adjusted by setting 'spark.sql.debug.maxToStringFields'.\n"
     ]
    }
   ],
   "source": [
    "# All flights dataset\n",
    "flights_df = spark.read.option(\"header\",True).csv('./data/flights/')\n",
    "# GHCND stations information\n",
    "stations_df = spark.read.option(\"header\",False).csv('./data/ghcnd-stations_clean.csv')\n",
    "# United States airport information\n",
    "airports_df = spark.read.option(\"header\",True).csv('./data/us-airports_clean.csv')\n",
    "\n",
    "# Create tables for these dataframe in order to query\n",
    "flights_df.createOrReplaceTempView(\"Flights\")\n",
    "stations_df.createOrReplaceTempView(\"Stations\")\n",
    "airports_df.createOrReplaceTempView(\"Airports\")"
   ]
  },
  {
   "cell_type": "markdown",
   "metadata": {},
   "source": [
    "Check all ORIGIN and DEST column in dataset, pick airport codes that appeared in dataset."
   ]
  },
  {
   "cell_type": "code",
   "execution_count": 4,
   "metadata": {},
   "outputs": [],
   "source": [
    "apCode_df = spark.sql(\"SELECT DISTINCT ORIGIN FROM Flights \\\n",
    "                        UNION \\\n",
    "                        SELECT DISTINCT DEST FROM Flights\")\n",
    "apCode_df.createOrReplaceTempView(\"Airport_Code\")"
   ]
  },
  {
   "cell_type": "markdown",
   "metadata": {},
   "source": [
    "Append full airport information with airport codes appeared in airline delay and cancellation dataset"
   ]
  },
  {
   "cell_type": "code",
   "execution_count": 6,
   "metadata": {},
   "outputs": [
    {
     "name": "stderr",
     "output_type": "stream",
     "text": [
      "                                                                                \r"
     ]
    }
   ],
   "source": [
    "# (ORIGIN, STATE, CITY, AP LOCAL_CODE, AP IATA_CODE, AP IDENT_CODE, AP NAME)\n",
    "airport_full_df = spark.sql(\" \\\n",
    "        SELECT c.ORIGIN, \\\n",
    "            p.local_region AS STATE, \\\n",
    "            p.municipality AS CITY, \\\n",
    "            p.local_code AS LOCAL, \\\n",
    "            p.iata_code AS IATA, \\\n",
    "            p.ident AS IDENT, \\\n",
    "            p.name AS NAME \\\n",
    "        FROM Airport_Code AS c \\\n",
    "        LEFT JOIN Airports AS p ON \\\n",
    "        (c.ORIGIN = p.local_code OR c.ORIGIN = p.iata_code)\" \\\n",
    "    )\n",
    "    \n",
    "airport_full_df.write.option(\"header\",True).csv('./output/airports_full')\n",
    "airport_full_df.createOrReplaceTempView(\"Airport_Full\")"
   ]
  },
  {
   "cell_type": "markdown",
   "metadata": {},
   "source": [
    "*Use Regex Matching to filter out weather stations located in airports. \"rlike\" keywords"
   ]
  },
  {
   "cell_type": "code",
   "execution_count": null,
   "metadata": {},
   "outputs": [],
   "source": [
    "ap_stations = stations_df.filter( \\\n",
    "    lower(col('_c2')).like('% ap%') | \\\n",
    "    lower(col('_c2')).like('% airport%')) \\\n",
    "\n",
    "ap_stations.createOrReplaceTempView(\"APTABLE\")\n",
    "ap_stations.write.csv('./output/ap_station')\n",
    "\n",
    "sqlStr = \"SELECT * FROM APTABLE AS t \\\n",
    "        LEFT JOIN FULL_AP AS p ON \\\n",
    "        t._c2 LIKE CONCAT('%', p.column ,'%') \""
   ]
  },
  {
   "cell_type": "code",
   "execution_count": null,
   "metadata": {},
   "outputs": [],
   "source": [
    "# Version2: Output AirportID,AirportName into ./output/airports.csv\n",
    "spark.sql(\" \\\n",
    "        SELECT i.ORIGIN, p.name \\\n",
    "        FROM AIRPORTID i \\\n",
    "        LEFT JOIN \\\n",
    "        AIRPORTS p ON i.ORIGIN = ( \\\n",
    "        CASE WHEN (p.iata_code IS NOT NULL) THEN (p.iata_code) \\\n",
    "        ELSE (p.local_code) END) \\\n",
    "        WHERE p.iso_country = 'US'\" \\\n",
    "    ) \\\n",
    "    .sort(\"ORIGIN\") \\\n",
    "    .write.options(heade=True, delimiter=',') \\\n",
    "    .csv(\"./output/airports\")"
   ]
  },
  {
   "cell_type": "code",
   "execution_count": null,
   "metadata": {},
   "outputs": [],
   "source": [
    "# load stations info\n",
    "apIdNameDF = spark.read.option(\"header\",False).csv('./data/apIdName.csv')\n",
    "apIdNames = apIdNameDF.collect()\n",
    "\n",
    "name_seg = set()\n",
    "for s in apIdNames:\n",
    "    for i in str(s[1]).split():\n",
    "        if i.isalpha():\n",
    "            name_seg.add(i)\n",
    "\n",
    "tl = list(name_seg)\n",
    "tl.sort()\n",
    "print(tl)"
   ]
  },
  {
   "cell_type": "code",
   "execution_count": null,
   "metadata": {},
   "outputs": [],
   "source": [
    "ghcndDF = spark.read.option(\"header\",False).csv('./data/ghcnd-stations_clean.csv')\n",
    "potentials = ghcndDF.filter( \\\n",
    "    lower(col('_c2')).like('% ap%') | \\\n",
    "    lower(col('_c2')).like('% airport%')).write.csv('test.csv')"
   ]
  },
  {
   "cell_type": "markdown",
   "metadata": {},
   "source": [
    "Load preprocessed airport-station dataset and GHCND weather data"
   ]
  },
  {
   "cell_type": "code",
   "execution_count": 7,
   "metadata": {},
   "outputs": [],
   "source": [
    "full_airport_station =  spark.read.option(\"header\",True).csv('./data/airports_stations.csv')\n",
    "ghcnd_stations = spark.read.option(\"header\",False).csv('./data/ghcnd_by_year/')"
   ]
  },
  {
   "cell_type": "code",
   "execution_count": 8,
   "metadata": {},
   "outputs": [
    {
     "name": "stdout",
     "output_type": "stream",
     "text": [
      "Row(ORIGIN='BGM', STATE='NY', CITY='Binghamton', LOCAL='BGM', IATA='BGM', IDENT='KBGM', NAME='Greater Binghamton/Edwin A Link field', STATION='USW00014738')\n",
      "Row(_c0='AE000041196', _c1='20130101', _c2='TMAX', _c3='250', _c4=None, _c5=None, _c6='S', _c7=None)\n"
     ]
    }
   ],
   "source": [
    "print(full_airport_station.head())\n",
    "print(ghcnd_stations.head())"
   ]
  },
  {
   "cell_type": "markdown",
   "metadata": {},
   "source": [
    "Assign each existing airport codes into weather data value and filter out weather data that not relate to our dataset."
   ]
  },
  {
   "cell_type": "code",
   "execution_count": 9,
   "metadata": {},
   "outputs": [],
   "source": [
    "selected_airport_station = full_airport_station.select(col('ORIGIN'),col('STATION'))\n",
    "ghcnd_stations_clean = ghcnd_stations.join( \\\n",
    "                                            selected_airport_station, \\\n",
    "                                            ghcnd_stations._c0 == selected_airport_station.STATION, \\\n",
    "                                            \"LeftOuter\" \\\n",
    "                                        )"
   ]
  },
  {
   "cell_type": "code",
   "execution_count": 10,
   "metadata": {},
   "outputs": [],
   "source": [
    "# Keep not null rows and rename them based on GHCND documents\n",
    "weatherData_df = ghcnd_stations_clean \\\n",
    "                .filter(ghcnd_stations_clean.ORIGIN.isNotNull()) \\\n",
    "                .select(col('_c0').alias(\"STATION_ID\"), \\\n",
    "                        col('ORIGIN').alias(\"AIRPORT_CODE\"), \\\n",
    "                        col('_c1').alias(\"DATE\"), \\\n",
    "                        col('_c2').alias(\"ELEMENT\"), \\\n",
    "                        col('_c3').alias(\"DATA_VALUE\"), \\\n",
    "                        col('_c4').alias(\"M_FLAG\"), \\\n",
    "                        col('_c5').alias(\"Q_FLAG\"), \\\n",
    "                        col('_c6').alias(\"S_FLAG\"), \\\n",
    "                        col('_c7').alias(\"OBS_TIME\"))"
   ]
  },
  {
   "cell_type": "markdown",
   "metadata": {},
   "source": [
    "Ouput filtered weather dataset"
   ]
  },
  {
   "cell_type": "code",
   "execution_count": null,
   "metadata": {},
   "outputs": [],
   "source": [
    "weatherData_df.write.option(\"header\",True).csv(\"./output/filtered_weatherData\")"
   ]
  }
 ],
 "metadata": {
  "kernelspec": {
   "display_name": "Python 3.10.6 ('cs543_proj_1': venv)",
   "language": "python",
   "name": "python3"
  },
  "language_info": {
   "codemirror_mode": {
    "name": "ipython",
    "version": 3
   },
   "file_extension": ".py",
   "mimetype": "text/x-python",
   "name": "python",
   "nbconvert_exporter": "python",
   "pygments_lexer": "ipython3",
   "version": "3.10.6"
  },
  "orig_nbformat": 4,
  "vscode": {
   "interpreter": {
    "hash": "cde981a51954932d95cd0d2db88350bc6a3d7387d257ee815a180cd40a004a1b"
   }
  }
 },
 "nbformat": 4,
 "nbformat_minor": 2
}
